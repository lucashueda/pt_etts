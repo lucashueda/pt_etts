{
 "cells": [
  {
   "cell_type": "code",
   "execution_count": 1,
   "metadata": {},
   "outputs": [],
   "source": [
    "import pandas as pd\n",
    "import numpy as np"
   ]
  },
  {
   "cell_type": "code",
   "execution_count": 10,
   "metadata": {},
   "outputs": [],
   "source": [
    "train = pd.read_csv('./vctk_aux/train_df_with_mels.csv', error_bad_lines=False)"
   ]
  },
  {
   "cell_type": "code",
   "execution_count": 3,
   "metadata": {},
   "outputs": [],
   "source": [
    "train_df = pd.read_csv('./vctk_aux/vctk_train.csv', sep=',')"
   ]
  },
  {
   "cell_type": "code",
   "execution_count": 4,
   "metadata": {},
   "outputs": [
    {
     "data": {
      "text/html": [
       "<div>\n",
       "<style scoped>\n",
       "    .dataframe tbody tr th:only-of-type {\n",
       "        vertical-align: middle;\n",
       "    }\n",
       "\n",
       "    .dataframe tbody tr th {\n",
       "        vertical-align: top;\n",
       "    }\n",
       "\n",
       "    .dataframe thead th {\n",
       "        text-align: right;\n",
       "    }\n",
       "</style>\n",
       "<table border=\"1\" class=\"dataframe\">\n",
       "  <thead>\n",
       "    <tr style=\"text-align: right;\">\n",
       "      <th></th>\n",
       "      <th>wav_path</th>\n",
       "      <th>text</th>\n",
       "      <th>emb_id</th>\n",
       "    </tr>\n",
       "  </thead>\n",
       "  <tbody>\n",
       "    <tr>\n",
       "      <th>0</th>\n",
       "      <td>./data/VCTK/VCTK-Corpus/wav48/p272/p272_280.wav</td>\n",
       "      <td>The condition of their adoption was that they ...</td>\n",
       "      <td>272</td>\n",
       "    </tr>\n",
       "    <tr>\n",
       "      <th>1</th>\n",
       "      <td>./data/VCTK/VCTK-Corpus/wav48/p239/p239_038.wav</td>\n",
       "      <td>How do you take them away ?</td>\n",
       "      <td>239</td>\n",
       "    </tr>\n",
       "    <tr>\n",
       "      <th>2</th>\n",
       "      <td>./data/VCTK/VCTK-Corpus/wav48/p339/p339_144.wav</td>\n",
       "      <td>He was part of the family.</td>\n",
       "      <td>339</td>\n",
       "    </tr>\n",
       "    <tr>\n",
       "      <th>3</th>\n",
       "      <td>./data/VCTK/VCTK-Corpus/wav48/p301/p301_261.wav</td>\n",
       "      <td>We're not travel agents.</td>\n",
       "      <td>301</td>\n",
       "    </tr>\n",
       "    <tr>\n",
       "      <th>4</th>\n",
       "      <td>./data/VCTK/VCTK-Corpus/wav48/p252/p252_279.wav</td>\n",
       "      <td>Those three goals in five minutes changed the ...</td>\n",
       "      <td>252</td>\n",
       "    </tr>\n",
       "  </tbody>\n",
       "</table>\n",
       "</div>"
      ],
      "text/plain": [
       "                                          wav_path  \\\n",
       "0  ./data/VCTK/VCTK-Corpus/wav48/p272/p272_280.wav   \n",
       "1  ./data/VCTK/VCTK-Corpus/wav48/p239/p239_038.wav   \n",
       "2  ./data/VCTK/VCTK-Corpus/wav48/p339/p339_144.wav   \n",
       "3  ./data/VCTK/VCTK-Corpus/wav48/p301/p301_261.wav   \n",
       "4  ./data/VCTK/VCTK-Corpus/wav48/p252/p252_279.wav   \n",
       "\n",
       "                                                text  emb_id  \n",
       "0  The condition of their adoption was that they ...     272  \n",
       "1                        How do you take them away ?     239  \n",
       "2                         He was part of the family.     339  \n",
       "3                           We're not travel agents.     301  \n",
       "4  Those three goals in five minutes changed the ...     252  "
      ]
     },
     "execution_count": 4,
     "metadata": {},
     "output_type": "execute_result"
    }
   ],
   "source": [
    "train_df.head()"
   ]
  },
  {
   "cell_type": "code",
   "execution_count": 5,
   "metadata": {},
   "outputs": [
    {
     "data": {
      "text/plain": [
       "0        272\n",
       "1        239\n",
       "2        339\n",
       "3        301\n",
       "4        252\n",
       "        ... \n",
       "39658    308\n",
       "39659    257\n",
       "39660    318\n",
       "39661    273\n",
       "39662    258\n",
       "Name: emb_id, Length: 39663, dtype: int64"
      ]
     },
     "execution_count": 5,
     "metadata": {},
     "output_type": "execute_result"
    }
   ],
   "source": [
    "train_df.emb_id"
   ]
  },
  {
   "cell_type": "code",
   "execution_count": 6,
   "metadata": {},
   "outputs": [],
   "source": [
    "import pickle\n",
    "a_file = open(\"./vctk_aux/stats.pkl\", \"rb\")\n",
    "output = pickle.load(a_file)\n"
   ]
  },
  {
   "cell_type": "code",
   "execution_count": 14,
   "metadata": {},
   "outputs": [
    {
     "data": {
      "text/plain": [
       "dict_keys([330, 239, 250, 314, 287, 244, 241, 341, 232, 268, 312, 254, 334, 258, 227, 261, 264, 282, 306, 279, 302, 304, 243, 300, 351, 281, 374, 231, 255, 265, 363, 339, 234, 326, 228, 276, 274, 362, 225, 286, 311, 245, 267, 272, 257, 230, 285, 270])"
      ]
     },
     "execution_count": 14,
     "metadata": {},
     "output_type": "execute_result"
    }
   ],
   "source": [
    "output.keys()"
   ]
  },
  {
   "cell_type": "code",
   "execution_count": 11,
   "metadata": {},
   "outputs": [
    {
     "data": {
      "text/html": [
       "<div>\n",
       "<style scoped>\n",
       "    .dataframe tbody tr th:only-of-type {\n",
       "        vertical-align: middle;\n",
       "    }\n",
       "\n",
       "    .dataframe tbody tr th {\n",
       "        vertical-align: top;\n",
       "    }\n",
       "\n",
       "    .dataframe thead th {\n",
       "        text-align: right;\n",
       "    }\n",
       "</style>\n",
       "<table border=\"1\" class=\"dataframe\">\n",
       "  <thead>\n",
       "    <tr style=\"text-align: right;\">\n",
       "      <th></th>\n",
       "      <th>wav_path</th>\n",
       "      <th>text</th>\n",
       "      <th>emb_id</th>\n",
       "      <th>mel_dirs</th>\n",
       "      <th>durations</th>\n",
       "    </tr>\n",
       "  </thead>\n",
       "  <tbody>\n",
       "    <tr>\n",
       "      <th>0</th>\n",
       "      <td>./data/VCTK/VCTK-Corpus/wav48/p330/p330_063.wav</td>\n",
       "      <td>Nor does it have a stock of medicines.</td>\n",
       "      <td>330</td>\n",
       "      <td>./fbank_outputs_sampled/train/0/p330_063.npy</td>\n",
       "      <td>3.727750</td>\n",
       "    </tr>\n",
       "    <tr>\n",
       "      <th>1</th>\n",
       "      <td>./data/VCTK/VCTK-Corpus/wav48/p239/p239_215.wav</td>\n",
       "      <td>That group reported just before Christmas.</td>\n",
       "      <td>239</td>\n",
       "      <td>./fbank_outputs_sampled/train/0/p239_215.npy</td>\n",
       "      <td>3.658000</td>\n",
       "    </tr>\n",
       "    <tr>\n",
       "      <th>2</th>\n",
       "      <td>./data/VCTK/VCTK-Corpus/wav48/p250/p250_432.wav</td>\n",
       "      <td>Being captain of this club is fantastic.</td>\n",
       "      <td>250</td>\n",
       "      <td>./fbank_outputs_sampled/train/0/p250_432.npy</td>\n",
       "      <td>1.844500</td>\n",
       "    </tr>\n",
       "    <tr>\n",
       "      <th>3</th>\n",
       "      <td>./data/VCTK/VCTK-Corpus/wav48/p314/p314_159.wav</td>\n",
       "      <td>We must move on.</td>\n",
       "      <td>314</td>\n",
       "      <td>./fbank_outputs_sampled/train/0/p314_159.npy</td>\n",
       "      <td>2.387000</td>\n",
       "    </tr>\n",
       "    <tr>\n",
       "      <th>4</th>\n",
       "      <td>./data/VCTK/VCTK-Corpus/wav48/p287/p287_342.wav</td>\n",
       "      <td>A Home Office spokesman said.</td>\n",
       "      <td>287</td>\n",
       "      <td>./fbank_outputs_sampled/train/0/p287_342.npy</td>\n",
       "      <td>2.697000</td>\n",
       "    </tr>\n",
       "    <tr>\n",
       "      <th>5</th>\n",
       "      <td>./data/VCTK/VCTK-Corpus/wav48/p244/p244_386.wav</td>\n",
       "      <td>An announcement is expected this week.</td>\n",
       "      <td>244</td>\n",
       "      <td>./fbank_outputs_sampled/train/0/p244_386.npy</td>\n",
       "      <td>3.115500</td>\n",
       "    </tr>\n",
       "    <tr>\n",
       "      <th>6</th>\n",
       "      <td>./data/VCTK/VCTK-Corpus/wav48/p241/p241_371.wav</td>\n",
       "      <td>Well, the big day has arrived.</td>\n",
       "      <td>241</td>\n",
       "      <td>./fbank_outputs_sampled/train/0/p241_371.npy</td>\n",
       "      <td>1.441500</td>\n",
       "    </tr>\n",
       "    <tr>\n",
       "      <th>7</th>\n",
       "      <td>./data/VCTK/VCTK-Corpus/wav48/p341/p341_209.wav</td>\n",
       "      <td>John Reid, the Scottish secretary, also welcom...</td>\n",
       "      <td>341</td>\n",
       "      <td>./fbank_outputs_sampled/train/0/p341_209.npy</td>\n",
       "      <td>3.541750</td>\n",
       "    </tr>\n",
       "    <tr>\n",
       "      <th>8</th>\n",
       "      <td>./data/VCTK/VCTK-Corpus/wav48/p232/p232_161.wav</td>\n",
       "      <td>We do not comment on the behaviour of our auth...</td>\n",
       "      <td>232</td>\n",
       "      <td>./fbank_outputs_sampled/train/0/p232_161.npy</td>\n",
       "      <td>1.999500</td>\n",
       "    </tr>\n",
       "    <tr>\n",
       "      <th>9</th>\n",
       "      <td>./data/VCTK/VCTK-Corpus/wav48/p268/p268_220.wav</td>\n",
       "      <td>Their prescription is largely about changing a...</td>\n",
       "      <td>268</td>\n",
       "      <td>./fbank_outputs_sampled/train/0/p268_220.npy</td>\n",
       "      <td>2.828750</td>\n",
       "    </tr>\n",
       "    <tr>\n",
       "      <th>10</th>\n",
       "      <td>./data/VCTK/VCTK-Corpus/wav48/p312/p312_367.wav</td>\n",
       "      <td>And it will be even more difficult tomorrow.</td>\n",
       "      <td>312</td>\n",
       "      <td>./fbank_outputs_sampled/train/0/p312_367.npy</td>\n",
       "      <td>2.022750</td>\n",
       "    </tr>\n",
       "    <tr>\n",
       "      <th>11</th>\n",
       "      <td>./data/VCTK/VCTK-Corpus/wav48/p254/p254_134.wav</td>\n",
       "      <td>They keep the atmosphere in mind.</td>\n",
       "      <td>254</td>\n",
       "      <td>./fbank_outputs_sampled/train/0/p254_134.npy</td>\n",
       "      <td>1.519000</td>\n",
       "    </tr>\n",
       "    <tr>\n",
       "      <th>12</th>\n",
       "      <td>./data/VCTK/VCTK-Corpus/wav48/p334/p334_221.wav</td>\n",
       "      <td>This isn't a betrayal of public services, it's...</td>\n",
       "      <td>334</td>\n",
       "      <td>./fbank_outputs_sampled/train/0/p334_221.npy</td>\n",
       "      <td>3.865438</td>\n",
       "    </tr>\n",
       "    <tr>\n",
       "      <th>13</th>\n",
       "      <td>./data/VCTK/VCTK-Corpus/wav48/p258/p258_171.wav</td>\n",
       "      <td>However, the figures were disputed by the Scot...</td>\n",
       "      <td>258</td>\n",
       "      <td>./fbank_outputs_sampled/train/0/p258_171.npy</td>\n",
       "      <td>3.154250</td>\n",
       "    </tr>\n",
       "    <tr>\n",
       "      <th>14</th>\n",
       "      <td>./data/VCTK/VCTK-Corpus/wav48/p227/p227_263.wav</td>\n",
       "      <td>The calls were last night rejected by the US a...</td>\n",
       "      <td>227</td>\n",
       "      <td>./fbank_outputs_sampled/train/0/p227_263.npy</td>\n",
       "      <td>3.053500</td>\n",
       "    </tr>\n",
       "    <tr>\n",
       "      <th>15</th>\n",
       "      <td>./data/VCTK/VCTK-Corpus/wav48/p227/p227_229.wav</td>\n",
       "      <td>It's just a normal life.</td>\n",
       "      <td>227</td>\n",
       "      <td>./fbank_outputs_sampled/train/0/p227_229.npy</td>\n",
       "      <td>1.147000</td>\n",
       "    </tr>\n",
       "    <tr>\n",
       "      <th>16</th>\n",
       "      <td>./data/VCTK/VCTK-Corpus/wav48/p261/p261_288.wav</td>\n",
       "      <td>It would be a tragedy if it had to close.</td>\n",
       "      <td>261</td>\n",
       "      <td>./fbank_outputs_sampled/train/0/p261_288.npy</td>\n",
       "      <td>2.139000</td>\n",
       "    </tr>\n",
       "    <tr>\n",
       "      <th>17</th>\n",
       "      <td>./data/VCTK/VCTK-Corpus/wav48/p264/p264_483.wav</td>\n",
       "      <td>Your bank may offer you a choice of options.)</td>\n",
       "      <td>264</td>\n",
       "      <td>./fbank_outputs_sampled/train/0/p264_483.npy</td>\n",
       "      <td>2.046000</td>\n",
       "    </tr>\n",
       "    <tr>\n",
       "      <th>18</th>\n",
       "      <td>./data/VCTK/VCTK-Corpus/wav48/p232/p232_169.wav</td>\n",
       "      <td>It's too early to say whether a public inquiry...</td>\n",
       "      <td>232</td>\n",
       "      <td>./fbank_outputs_sampled/train/0/p232_169.npy</td>\n",
       "      <td>2.766750</td>\n",
       "    </tr>\n",
       "    <tr>\n",
       "      <th>19</th>\n",
       "      <td>./data/VCTK/VCTK-Corpus/wav48/p282/p282_291.wav</td>\n",
       "      <td>Nothing is safe.</td>\n",
       "      <td>282</td>\n",
       "      <td>./fbank_outputs_sampled/train/0/p282_291.npy</td>\n",
       "      <td>2.193250</td>\n",
       "    </tr>\n",
       "    <tr>\n",
       "      <th>20</th>\n",
       "      <td>./data/VCTK/VCTK-Corpus/wav48/p250/p250_371.wav</td>\n",
       "      <td>I was delighted to accept.</td>\n",
       "      <td>250</td>\n",
       "      <td>./fbank_outputs_sampled/train/0/p250_371.npy</td>\n",
       "      <td>1.255500</td>\n",
       "    </tr>\n",
       "    <tr>\n",
       "      <th>21</th>\n",
       "      <td>./data/VCTK/VCTK-Corpus/wav48/p306/p306_097.wav</td>\n",
       "      <td>It's not a new concept in jazz.</td>\n",
       "      <td>306</td>\n",
       "      <td>./fbank_outputs_sampled/train/0/p306_097.npy</td>\n",
       "      <td>2.348250</td>\n",
       "    </tr>\n",
       "    <tr>\n",
       "      <th>22</th>\n",
       "      <td>./data/VCTK/VCTK-Corpus/wav48/p279/p279_367.wav</td>\n",
       "      <td>There is no evidence of a Little Scotland emer...</td>\n",
       "      <td>279</td>\n",
       "      <td>./fbank_outputs_sampled/train/0/p279_367.npy</td>\n",
       "      <td>2.177750</td>\n",
       "    </tr>\n",
       "    <tr>\n",
       "      <th>23</th>\n",
       "      <td>./data/VCTK/VCTK-Corpus/wav48/p302/p302_315.wav</td>\n",
       "      <td>It's like the Russians.</td>\n",
       "      <td>302</td>\n",
       "      <td>./fbank_outputs_sampled/train/0/p302_315.npy</td>\n",
       "      <td>0.922250</td>\n",
       "    </tr>\n",
       "    <tr>\n",
       "      <th>24</th>\n",
       "      <td>./data/VCTK/VCTK-Corpus/wav48/p304/p304_350.wav</td>\n",
       "      <td>There is no excuse for domestic abuse.</td>\n",
       "      <td>304</td>\n",
       "      <td>./fbank_outputs_sampled/train/0/p304_350.npy</td>\n",
       "      <td>1.960750</td>\n",
       "    </tr>\n",
       "    <tr>\n",
       "      <th>25</th>\n",
       "      <td>./data/VCTK/VCTK-Corpus/wav48/p243/p243_030.wav</td>\n",
       "      <td>She brought a lot to my life.</td>\n",
       "      <td>243</td>\n",
       "      <td>./fbank_outputs_sampled/train/0/p243_030.npy</td>\n",
       "      <td>1.371750</td>\n",
       "    </tr>\n",
       "    <tr>\n",
       "      <th>27</th>\n",
       "      <td>./data/VCTK/VCTK-Corpus/wav48/p300/p300_291.wav</td>\n",
       "      <td>It's not even finished.</td>\n",
       "      <td>300</td>\n",
       "      <td>./fbank_outputs_sampled/train/0/p300_291.npy</td>\n",
       "      <td>3.604188</td>\n",
       "    </tr>\n",
       "    <tr>\n",
       "      <th>28</th>\n",
       "      <td>./data/VCTK/VCTK-Corpus/wav48/p351/p351_248.wav</td>\n",
       "      <td>Some were close to tears.</td>\n",
       "      <td>351</td>\n",
       "      <td>./fbank_outputs_sampled/train/0/p351_248.npy</td>\n",
       "      <td>2.725250</td>\n",
       "    </tr>\n",
       "    <tr>\n",
       "      <th>29</th>\n",
       "      <td>./data/VCTK/VCTK-Corpus/wav48/p281/p281_369.wav</td>\n",
       "      <td>She said they would appeal.</td>\n",
       "      <td>281</td>\n",
       "      <td>./fbank_outputs_sampled/train/0/p281_369.npy</td>\n",
       "      <td>3.065688</td>\n",
       "    </tr>\n",
       "    <tr>\n",
       "      <th>30</th>\n",
       "      <td>./data/VCTK/VCTK-Corpus/wav48/p374/p374_175.wav</td>\n",
       "      <td>It is the manager's decision.</td>\n",
       "      <td>374</td>\n",
       "      <td>./fbank_outputs_sampled/train/0/p374_175.npy</td>\n",
       "      <td>2.766938</td>\n",
       "    </tr>\n",
       "    <tr>\n",
       "      <th>31</th>\n",
       "      <td>./data/VCTK/VCTK-Corpus/wav48/p231/p231_334.wav</td>\n",
       "      <td>She is now on the back benches.</td>\n",
       "      <td>231</td>\n",
       "      <td>./fbank_outputs_sampled/train/0/p231_334.npy</td>\n",
       "      <td>2.259937</td>\n",
       "    </tr>\n",
       "    <tr>\n",
       "      <th>32</th>\n",
       "      <td>./data/VCTK/VCTK-Corpus/wav48/p255/p255_170.wav</td>\n",
       "      <td>I lost my head.</td>\n",
       "      <td>255</td>\n",
       "      <td>./fbank_outputs_sampled/train/0/p255_170.npy</td>\n",
       "      <td>1.666250</td>\n",
       "    </tr>\n",
       "    <tr>\n",
       "      <th>33</th>\n",
       "      <td>./data/VCTK/VCTK-Corpus/wav48/p265/p265_055.wav</td>\n",
       "      <td>Over time, with patience and precision, the te...</td>\n",
       "      <td>265</td>\n",
       "      <td>./fbank_outputs_sampled/train/0/p265_055.npy</td>\n",
       "      <td>5.432750</td>\n",
       "    </tr>\n",
       "    <tr>\n",
       "      <th>34</th>\n",
       "      <td>./data/VCTK/VCTK-Corpus/wav48/p314/p314_130.wav</td>\n",
       "      <td>It's very tragic and traumatic.</td>\n",
       "      <td>314</td>\n",
       "      <td>./fbank_outputs_sampled/train/0/p314_130.npy</td>\n",
       "      <td>1.697250</td>\n",
       "    </tr>\n",
       "    <tr>\n",
       "      <th>35</th>\n",
       "      <td>./data/VCTK/VCTK-Corpus/wav48/p363/p363_112.wav</td>\n",
       "      <td>I sit at home a lot.</td>\n",
       "      <td>363</td>\n",
       "      <td>./fbank_outputs_sampled/train/0/p363_112.npy</td>\n",
       "      <td>2.046000</td>\n",
       "    </tr>\n",
       "    <tr>\n",
       "      <th>36</th>\n",
       "      <td>./data/VCTK/VCTK-Corpus/wav48/p339/p339_124.wav</td>\n",
       "      <td>We are doing very well as we are.</td>\n",
       "      <td>339</td>\n",
       "      <td>./fbank_outputs_sampled/train/0/p339_124.npy</td>\n",
       "      <td>1.612000</td>\n",
       "    </tr>\n",
       "    <tr>\n",
       "      <th>37</th>\n",
       "      <td>./data/VCTK/VCTK-Corpus/wav48/p234/p234_195.wav</td>\n",
       "      <td>At that point, the structure of the board was ...</td>\n",
       "      <td>234</td>\n",
       "      <td>./fbank_outputs_sampled/train/0/p234_195.npy</td>\n",
       "      <td>2.449000</td>\n",
       "    </tr>\n",
       "    <tr>\n",
       "      <th>38</th>\n",
       "      <td>./data/VCTK/VCTK-Corpus/wav48/p326/p326_024.wav</td>\n",
       "      <td>This is a very common type of bow, one showing...</td>\n",
       "      <td>326</td>\n",
       "      <td>./fbank_outputs_sampled/train/0/p326_024.npy</td>\n",
       "      <td>5.544000</td>\n",
       "    </tr>\n",
       "    <tr>\n",
       "      <th>39</th>\n",
       "      <td>./data/VCTK/VCTK-Corpus/wav48/p334/p334_138.wav</td>\n",
       "      <td>Could you put it in writing?</td>\n",
       "      <td>334</td>\n",
       "      <td>./fbank_outputs_sampled/train/0/p334_138.npy</td>\n",
       "      <td>2.971687</td>\n",
       "    </tr>\n",
       "    <tr>\n",
       "      <th>40</th>\n",
       "      <td>./data/VCTK/VCTK-Corpus/wav48/p228/p228_075.wav</td>\n",
       "      <td>They did not replace it with a conviction for ...</td>\n",
       "      <td>228</td>\n",
       "      <td>./fbank_outputs_sampled/train/0/p228_075.npy</td>\n",
       "      <td>3.130500</td>\n",
       "    </tr>\n",
       "    <tr>\n",
       "      <th>41</th>\n",
       "      <td>./data/VCTK/VCTK-Corpus/wav48/p276/p276_425.wav</td>\n",
       "      <td>But nothing could be done.</td>\n",
       "      <td>276</td>\n",
       "      <td>./fbank_outputs_sampled/train/0/p276_425.npy</td>\n",
       "      <td>2.495500</td>\n",
       "    </tr>\n",
       "    <tr>\n",
       "      <th>42</th>\n",
       "      <td>./data/VCTK/VCTK-Corpus/wav48/p274/p274_134.wav</td>\n",
       "      <td>This is a major championship.)</td>\n",
       "      <td>274</td>\n",
       "      <td>./fbank_outputs_sampled/train/0/p274_134.npy</td>\n",
       "      <td>2.022750</td>\n",
       "    </tr>\n",
       "    <tr>\n",
       "      <th>43</th>\n",
       "      <td>./data/VCTK/VCTK-Corpus/wav48/p362/p362_162.wav</td>\n",
       "      <td>So is the rest of British sport.</td>\n",
       "      <td>362</td>\n",
       "      <td>./fbank_outputs_sampled/train/0/p362_162.npy</td>\n",
       "      <td>1.829000</td>\n",
       "    </tr>\n",
       "    <tr>\n",
       "      <th>44</th>\n",
       "      <td>./data/VCTK/VCTK-Corpus/wav48/p231/p231_426.wav</td>\n",
       "      <td>My aim is a top six finish.</td>\n",
       "      <td>231</td>\n",
       "      <td>./fbank_outputs_sampled/train/0/p231_426.npy</td>\n",
       "      <td>2.599438</td>\n",
       "    </tr>\n",
       "    <tr>\n",
       "      <th>45</th>\n",
       "      <td>./data/VCTK/VCTK-Corpus/wav48/p339/p339_375.wav</td>\n",
       "      <td>She's the runner - she makes the decisions.</td>\n",
       "      <td>339</td>\n",
       "      <td>./fbank_outputs_sampled/train/0/p339_375.npy</td>\n",
       "      <td>2.309500</td>\n",
       "    </tr>\n",
       "    <tr>\n",
       "      <th>46</th>\n",
       "      <td>./data/VCTK/VCTK-Corpus/wav48/p225/p225_244.wav</td>\n",
       "      <td>What was the matter for concern ?</td>\n",
       "      <td>225</td>\n",
       "      <td>./fbank_outputs_sampled/train/0/p225_244.npy</td>\n",
       "      <td>2.232000</td>\n",
       "    </tr>\n",
       "    <tr>\n",
       "      <th>47</th>\n",
       "      <td>./data/VCTK/VCTK-Corpus/wav48/p306/p306_304.wav</td>\n",
       "      <td>We've always had three options, and none of th...</td>\n",
       "      <td>306</td>\n",
       "      <td>./fbank_outputs_sampled/train/0/p306_304.npy</td>\n",
       "      <td>5.006500</td>\n",
       "    </tr>\n",
       "    <tr>\n",
       "      <th>48</th>\n",
       "      <td>./data/VCTK/VCTK-Corpus/wav48/p326/p326_364.wav</td>\n",
       "      <td>Well, it happened to me, so it's happening to ...</td>\n",
       "      <td>326</td>\n",
       "      <td>./fbank_outputs_sampled/train/0/p326_364.npy</td>\n",
       "      <td>3.797500</td>\n",
       "    </tr>\n",
       "    <tr>\n",
       "      <th>49</th>\n",
       "      <td>./data/VCTK/VCTK-Corpus/wav48/p286/p286_429.wav</td>\n",
       "      <td>I never had a childhood.</td>\n",
       "      <td>286</td>\n",
       "      <td>./fbank_outputs_sampled/train/0/p286_429.npy</td>\n",
       "      <td>1.131500</td>\n",
       "    </tr>\n",
       "    <tr>\n",
       "      <th>50</th>\n",
       "      <td>./data/VCTK/VCTK-Corpus/wav48/p268/p268_262.wav</td>\n",
       "      <td>You had to go and see him.</td>\n",
       "      <td>268</td>\n",
       "      <td>./fbank_outputs_sampled/train/0/p268_262.npy</td>\n",
       "      <td>1.402750</td>\n",
       "    </tr>\n",
       "    <tr>\n",
       "      <th>51</th>\n",
       "      <td>./data/VCTK/VCTK-Corpus/wav48/p311/p311_412.wav</td>\n",
       "      <td>Of course we aren't.</td>\n",
       "      <td>311</td>\n",
       "      <td>./fbank_outputs_sampled/train/0/p311_412.npy</td>\n",
       "      <td>0.875750</td>\n",
       "    </tr>\n",
       "    <tr>\n",
       "      <th>52</th>\n",
       "      <td>./data/VCTK/VCTK-Corpus/wav48/p245/p245_063.wav</td>\n",
       "      <td>He was popular.</td>\n",
       "      <td>245</td>\n",
       "      <td>./fbank_outputs_sampled/train/0/p245_063.npy</td>\n",
       "      <td>0.930000</td>\n",
       "    </tr>\n",
       "    <tr>\n",
       "      <th>53</th>\n",
       "      <td>./data/VCTK/VCTK-Corpus/wav48/p267/p267_227.wav</td>\n",
       "      <td>William Hague delighted his party.</td>\n",
       "      <td>267</td>\n",
       "      <td>./fbank_outputs_sampled/train/0/p267_227.npy</td>\n",
       "      <td>1.883250</td>\n",
       "    </tr>\n",
       "    <tr>\n",
       "      <th>54</th>\n",
       "      <td>./data/VCTK/VCTK-Corpus/wav48/p272/p272_406.wav</td>\n",
       "      <td>They recorded their debut album in New York.</td>\n",
       "      <td>272</td>\n",
       "      <td>./fbank_outputs_sampled/train/0/p272_406.npy</td>\n",
       "      <td>3.162000</td>\n",
       "    </tr>\n",
       "    <tr>\n",
       "      <th>55</th>\n",
       "      <td>./data/VCTK/VCTK-Corpus/wav48/p257/p257_046.wav</td>\n",
       "      <td>It's a blessing.</td>\n",
       "      <td>257</td>\n",
       "      <td>./fbank_outputs_sampled/train/0/p257_046.npy</td>\n",
       "      <td>1.618875</td>\n",
       "    </tr>\n",
       "    <tr>\n",
       "      <th>56</th>\n",
       "      <td>./data/VCTK/VCTK-Corpus/wav48/p225/p225_003.wav</td>\n",
       "      <td>Six spoons of fresh snow peas, five thick slab...</td>\n",
       "      <td>225</td>\n",
       "      <td>./fbank_outputs_sampled/train/0/p225_003.npy</td>\n",
       "      <td>5.828000</td>\n",
       "    </tr>\n",
       "    <tr>\n",
       "      <th>57</th>\n",
       "      <td>./data/VCTK/VCTK-Corpus/wav48/p230/p230_298.wav</td>\n",
       "      <td>It is a symbolic concert.</td>\n",
       "      <td>230</td>\n",
       "      <td>./fbank_outputs_sampled/train/0/p230_298.npy</td>\n",
       "      <td>3.472000</td>\n",
       "    </tr>\n",
       "    <tr>\n",
       "      <th>58</th>\n",
       "      <td>./data/VCTK/VCTK-Corpus/wav48/p285/p285_142.wav</td>\n",
       "      <td>Initial reports said the aircraft had experien...</td>\n",
       "      <td>285</td>\n",
       "      <td>./fbank_outputs_sampled/train/0/p285_142.npy</td>\n",
       "      <td>3.014750</td>\n",
       "    </tr>\n",
       "    <tr>\n",
       "      <th>59</th>\n",
       "      <td>./data/VCTK/VCTK-Corpus/wav48/p270/p270_427.wav</td>\n",
       "      <td>The need for any new UN resolutions will be pu...</td>\n",
       "      <td>270</td>\n",
       "      <td>./fbank_outputs_sampled/train/0/p270_427.npy</td>\n",
       "      <td>4.572500</td>\n",
       "    </tr>\n",
       "  </tbody>\n",
       "</table>\n",
       "</div>"
      ],
      "text/plain": [
       "                                           wav_path  \\\n",
       "0   ./data/VCTK/VCTK-Corpus/wav48/p330/p330_063.wav   \n",
       "1   ./data/VCTK/VCTK-Corpus/wav48/p239/p239_215.wav   \n",
       "2   ./data/VCTK/VCTK-Corpus/wav48/p250/p250_432.wav   \n",
       "3   ./data/VCTK/VCTK-Corpus/wav48/p314/p314_159.wav   \n",
       "4   ./data/VCTK/VCTK-Corpus/wav48/p287/p287_342.wav   \n",
       "5   ./data/VCTK/VCTK-Corpus/wav48/p244/p244_386.wav   \n",
       "6   ./data/VCTK/VCTK-Corpus/wav48/p241/p241_371.wav   \n",
       "7   ./data/VCTK/VCTK-Corpus/wav48/p341/p341_209.wav   \n",
       "8   ./data/VCTK/VCTK-Corpus/wav48/p232/p232_161.wav   \n",
       "9   ./data/VCTK/VCTK-Corpus/wav48/p268/p268_220.wav   \n",
       "10  ./data/VCTK/VCTK-Corpus/wav48/p312/p312_367.wav   \n",
       "11  ./data/VCTK/VCTK-Corpus/wav48/p254/p254_134.wav   \n",
       "12  ./data/VCTK/VCTK-Corpus/wav48/p334/p334_221.wav   \n",
       "13  ./data/VCTK/VCTK-Corpus/wav48/p258/p258_171.wav   \n",
       "14  ./data/VCTK/VCTK-Corpus/wav48/p227/p227_263.wav   \n",
       "15  ./data/VCTK/VCTK-Corpus/wav48/p227/p227_229.wav   \n",
       "16  ./data/VCTK/VCTK-Corpus/wav48/p261/p261_288.wav   \n",
       "17  ./data/VCTK/VCTK-Corpus/wav48/p264/p264_483.wav   \n",
       "18  ./data/VCTK/VCTK-Corpus/wav48/p232/p232_169.wav   \n",
       "19  ./data/VCTK/VCTK-Corpus/wav48/p282/p282_291.wav   \n",
       "20  ./data/VCTK/VCTK-Corpus/wav48/p250/p250_371.wav   \n",
       "21  ./data/VCTK/VCTK-Corpus/wav48/p306/p306_097.wav   \n",
       "22  ./data/VCTK/VCTK-Corpus/wav48/p279/p279_367.wav   \n",
       "23  ./data/VCTK/VCTK-Corpus/wav48/p302/p302_315.wav   \n",
       "24  ./data/VCTK/VCTK-Corpus/wav48/p304/p304_350.wav   \n",
       "25  ./data/VCTK/VCTK-Corpus/wav48/p243/p243_030.wav   \n",
       "27  ./data/VCTK/VCTK-Corpus/wav48/p300/p300_291.wav   \n",
       "28  ./data/VCTK/VCTK-Corpus/wav48/p351/p351_248.wav   \n",
       "29  ./data/VCTK/VCTK-Corpus/wav48/p281/p281_369.wav   \n",
       "30  ./data/VCTK/VCTK-Corpus/wav48/p374/p374_175.wav   \n",
       "31  ./data/VCTK/VCTK-Corpus/wav48/p231/p231_334.wav   \n",
       "32  ./data/VCTK/VCTK-Corpus/wav48/p255/p255_170.wav   \n",
       "33  ./data/VCTK/VCTK-Corpus/wav48/p265/p265_055.wav   \n",
       "34  ./data/VCTK/VCTK-Corpus/wav48/p314/p314_130.wav   \n",
       "35  ./data/VCTK/VCTK-Corpus/wav48/p363/p363_112.wav   \n",
       "36  ./data/VCTK/VCTK-Corpus/wav48/p339/p339_124.wav   \n",
       "37  ./data/VCTK/VCTK-Corpus/wav48/p234/p234_195.wav   \n",
       "38  ./data/VCTK/VCTK-Corpus/wav48/p326/p326_024.wav   \n",
       "39  ./data/VCTK/VCTK-Corpus/wav48/p334/p334_138.wav   \n",
       "40  ./data/VCTK/VCTK-Corpus/wav48/p228/p228_075.wav   \n",
       "41  ./data/VCTK/VCTK-Corpus/wav48/p276/p276_425.wav   \n",
       "42  ./data/VCTK/VCTK-Corpus/wav48/p274/p274_134.wav   \n",
       "43  ./data/VCTK/VCTK-Corpus/wav48/p362/p362_162.wav   \n",
       "44  ./data/VCTK/VCTK-Corpus/wav48/p231/p231_426.wav   \n",
       "45  ./data/VCTK/VCTK-Corpus/wav48/p339/p339_375.wav   \n",
       "46  ./data/VCTK/VCTK-Corpus/wav48/p225/p225_244.wav   \n",
       "47  ./data/VCTK/VCTK-Corpus/wav48/p306/p306_304.wav   \n",
       "48  ./data/VCTK/VCTK-Corpus/wav48/p326/p326_364.wav   \n",
       "49  ./data/VCTK/VCTK-Corpus/wav48/p286/p286_429.wav   \n",
       "50  ./data/VCTK/VCTK-Corpus/wav48/p268/p268_262.wav   \n",
       "51  ./data/VCTK/VCTK-Corpus/wav48/p311/p311_412.wav   \n",
       "52  ./data/VCTK/VCTK-Corpus/wav48/p245/p245_063.wav   \n",
       "53  ./data/VCTK/VCTK-Corpus/wav48/p267/p267_227.wav   \n",
       "54  ./data/VCTK/VCTK-Corpus/wav48/p272/p272_406.wav   \n",
       "55  ./data/VCTK/VCTK-Corpus/wav48/p257/p257_046.wav   \n",
       "56  ./data/VCTK/VCTK-Corpus/wav48/p225/p225_003.wav   \n",
       "57  ./data/VCTK/VCTK-Corpus/wav48/p230/p230_298.wav   \n",
       "58  ./data/VCTK/VCTK-Corpus/wav48/p285/p285_142.wav   \n",
       "59  ./data/VCTK/VCTK-Corpus/wav48/p270/p270_427.wav   \n",
       "\n",
       "                                                 text  emb_id  \\\n",
       "0              Nor does it have a stock of medicines.     330   \n",
       "1          That group reported just before Christmas.     239   \n",
       "2            Being captain of this club is fantastic.     250   \n",
       "3                                    We must move on.     314   \n",
       "4                       A Home Office spokesman said.     287   \n",
       "5              An announcement is expected this week.     244   \n",
       "6                      Well, the big day has arrived.     241   \n",
       "7   John Reid, the Scottish secretary, also welcom...     341   \n",
       "8   We do not comment on the behaviour of our auth...     232   \n",
       "9   Their prescription is largely about changing a...     268   \n",
       "10       And it will be even more difficult tomorrow.     312   \n",
       "11                  They keep the atmosphere in mind.     254   \n",
       "12  This isn't a betrayal of public services, it's...     334   \n",
       "13  However, the figures were disputed by the Scot...     258   \n",
       "14  The calls were last night rejected by the US a...     227   \n",
       "15                           It's just a normal life.     227   \n",
       "16          It would be a tragedy if it had to close.     261   \n",
       "17      Your bank may offer you a choice of options.)     264   \n",
       "18  It's too early to say whether a public inquiry...     232   \n",
       "19                                   Nothing is safe.     282   \n",
       "20                         I was delighted to accept.     250   \n",
       "21                    It's not a new concept in jazz.     306   \n",
       "22  There is no evidence of a Little Scotland emer...     279   \n",
       "23                            It's like the Russians.     302   \n",
       "24             There is no excuse for domestic abuse.     304   \n",
       "25                      She brought a lot to my life.     243   \n",
       "27                            It's not even finished.     300   \n",
       "28                          Some were close to tears.     351   \n",
       "29                        She said they would appeal.     281   \n",
       "30                      It is the manager's decision.     374   \n",
       "31                    She is now on the back benches.     231   \n",
       "32                                    I lost my head.     255   \n",
       "33  Over time, with patience and precision, the te...     265   \n",
       "34                    It's very tragic and traumatic.     314   \n",
       "35                               I sit at home a lot.     363   \n",
       "36                  We are doing very well as we are.     339   \n",
       "37  At that point, the structure of the board was ...     234   \n",
       "38  This is a very common type of bow, one showing...     326   \n",
       "39                       Could you put it in writing?     334   \n",
       "40  They did not replace it with a conviction for ...     228   \n",
       "41                         But nothing could be done.     276   \n",
       "42                     This is a major championship.)     274   \n",
       "43                   So is the rest of British sport.     362   \n",
       "44                        My aim is a top six finish.     231   \n",
       "45        She's the runner - she makes the decisions.     339   \n",
       "46                  What was the matter for concern ?     225   \n",
       "47  We've always had three options, and none of th...     306   \n",
       "48  Well, it happened to me, so it's happening to ...     326   \n",
       "49                           I never had a childhood.     286   \n",
       "50                         You had to go and see him.     268   \n",
       "51                               Of course we aren't.     311   \n",
       "52                                    He was popular.     245   \n",
       "53                 William Hague delighted his party.     267   \n",
       "54       They recorded their debut album in New York.     272   \n",
       "55                                   It's a blessing.     257   \n",
       "56  Six spoons of fresh snow peas, five thick slab...     225   \n",
       "57                          It is a symbolic concert.     230   \n",
       "58  Initial reports said the aircraft had experien...     285   \n",
       "59  The need for any new UN resolutions will be pu...     270   \n",
       "\n",
       "                                        mel_dirs  durations  \n",
       "0   ./fbank_outputs_sampled/train/0/p330_063.npy   3.727750  \n",
       "1   ./fbank_outputs_sampled/train/0/p239_215.npy   3.658000  \n",
       "2   ./fbank_outputs_sampled/train/0/p250_432.npy   1.844500  \n",
       "3   ./fbank_outputs_sampled/train/0/p314_159.npy   2.387000  \n",
       "4   ./fbank_outputs_sampled/train/0/p287_342.npy   2.697000  \n",
       "5   ./fbank_outputs_sampled/train/0/p244_386.npy   3.115500  \n",
       "6   ./fbank_outputs_sampled/train/0/p241_371.npy   1.441500  \n",
       "7   ./fbank_outputs_sampled/train/0/p341_209.npy   3.541750  \n",
       "8   ./fbank_outputs_sampled/train/0/p232_161.npy   1.999500  \n",
       "9   ./fbank_outputs_sampled/train/0/p268_220.npy   2.828750  \n",
       "10  ./fbank_outputs_sampled/train/0/p312_367.npy   2.022750  \n",
       "11  ./fbank_outputs_sampled/train/0/p254_134.npy   1.519000  \n",
       "12  ./fbank_outputs_sampled/train/0/p334_221.npy   3.865438  \n",
       "13  ./fbank_outputs_sampled/train/0/p258_171.npy   3.154250  \n",
       "14  ./fbank_outputs_sampled/train/0/p227_263.npy   3.053500  \n",
       "15  ./fbank_outputs_sampled/train/0/p227_229.npy   1.147000  \n",
       "16  ./fbank_outputs_sampled/train/0/p261_288.npy   2.139000  \n",
       "17  ./fbank_outputs_sampled/train/0/p264_483.npy   2.046000  \n",
       "18  ./fbank_outputs_sampled/train/0/p232_169.npy   2.766750  \n",
       "19  ./fbank_outputs_sampled/train/0/p282_291.npy   2.193250  \n",
       "20  ./fbank_outputs_sampled/train/0/p250_371.npy   1.255500  \n",
       "21  ./fbank_outputs_sampled/train/0/p306_097.npy   2.348250  \n",
       "22  ./fbank_outputs_sampled/train/0/p279_367.npy   2.177750  \n",
       "23  ./fbank_outputs_sampled/train/0/p302_315.npy   0.922250  \n",
       "24  ./fbank_outputs_sampled/train/0/p304_350.npy   1.960750  \n",
       "25  ./fbank_outputs_sampled/train/0/p243_030.npy   1.371750  \n",
       "27  ./fbank_outputs_sampled/train/0/p300_291.npy   3.604188  \n",
       "28  ./fbank_outputs_sampled/train/0/p351_248.npy   2.725250  \n",
       "29  ./fbank_outputs_sampled/train/0/p281_369.npy   3.065688  \n",
       "30  ./fbank_outputs_sampled/train/0/p374_175.npy   2.766938  \n",
       "31  ./fbank_outputs_sampled/train/0/p231_334.npy   2.259937  \n",
       "32  ./fbank_outputs_sampled/train/0/p255_170.npy   1.666250  \n",
       "33  ./fbank_outputs_sampled/train/0/p265_055.npy   5.432750  \n",
       "34  ./fbank_outputs_sampled/train/0/p314_130.npy   1.697250  \n",
       "35  ./fbank_outputs_sampled/train/0/p363_112.npy   2.046000  \n",
       "36  ./fbank_outputs_sampled/train/0/p339_124.npy   1.612000  \n",
       "37  ./fbank_outputs_sampled/train/0/p234_195.npy   2.449000  \n",
       "38  ./fbank_outputs_sampled/train/0/p326_024.npy   5.544000  \n",
       "39  ./fbank_outputs_sampled/train/0/p334_138.npy   2.971687  \n",
       "40  ./fbank_outputs_sampled/train/0/p228_075.npy   3.130500  \n",
       "41  ./fbank_outputs_sampled/train/0/p276_425.npy   2.495500  \n",
       "42  ./fbank_outputs_sampled/train/0/p274_134.npy   2.022750  \n",
       "43  ./fbank_outputs_sampled/train/0/p362_162.npy   1.829000  \n",
       "44  ./fbank_outputs_sampled/train/0/p231_426.npy   2.599438  \n",
       "45  ./fbank_outputs_sampled/train/0/p339_375.npy   2.309500  \n",
       "46  ./fbank_outputs_sampled/train/0/p225_244.npy   2.232000  \n",
       "47  ./fbank_outputs_sampled/train/0/p306_304.npy   5.006500  \n",
       "48  ./fbank_outputs_sampled/train/0/p326_364.npy   3.797500  \n",
       "49  ./fbank_outputs_sampled/train/0/p286_429.npy   1.131500  \n",
       "50  ./fbank_outputs_sampled/train/0/p268_262.npy   1.402750  \n",
       "51  ./fbank_outputs_sampled/train/0/p311_412.npy   0.875750  \n",
       "52  ./fbank_outputs_sampled/train/0/p245_063.npy   0.930000  \n",
       "53  ./fbank_outputs_sampled/train/0/p267_227.npy   1.883250  \n",
       "54  ./fbank_outputs_sampled/train/0/p272_406.npy   3.162000  \n",
       "55  ./fbank_outputs_sampled/train/0/p257_046.npy   1.618875  \n",
       "56  ./fbank_outputs_sampled/train/0/p225_003.npy   5.828000  \n",
       "57  ./fbank_outputs_sampled/train/0/p230_298.npy   3.472000  \n",
       "58  ./fbank_outputs_sampled/train/0/p285_142.npy   3.014750  \n",
       "59  ./fbank_outputs_sampled/train/0/p270_427.npy   4.572500  "
      ]
     },
     "execution_count": 11,
     "metadata": {},
     "output_type": "execute_result"
    }
   ],
   "source": [
    "train[train.emb_id.isin(output.keys())]"
   ]
  },
  {
   "cell_type": "code",
   "execution_count": 17,
   "metadata": {},
   "outputs": [],
   "source": [
    "ex = np.load('./fbank_outputs/train/2250/p258_122.npy')"
   ]
  },
  {
   "cell_type": "code",
   "execution_count": 18,
   "metadata": {},
   "outputs": [
    {
     "data": {
      "text/plain": [
       "(-0.25486478, -10.0)"
      ]
     },
     "execution_count": 18,
     "metadata": {},
     "output_type": "execute_result"
    }
   ],
   "source": [
    "ex.max(), ex.min()"
   ]
  },
  {
   "cell_type": "code",
   "execution_count": 21,
   "metadata": {},
   "outputs": [
    {
     "data": {
      "text/plain": [
       "(-7.684990839901852, 1.727981134282467)"
      ]
     },
     "execution_count": 21,
     "metadata": {},
     "output_type": "execute_result"
    }
   ],
   "source": [
    "mean = output[258][0,:]\n",
    "std = output[258][1,:]\n",
    "\n",
    "ex_ = (ex - mean)/std\n",
    "\n",
    "ex_.min(), ex_.max()"
   ]
  },
  {
   "cell_type": "code",
   "execution_count": 51,
   "metadata": {},
   "outputs": [],
   "source": [
    "import librosa\n",
    "audio, sr = librosa.load('./data/VCTK/VCTK-Corpus/wav48/p330/p330_063.wav')\n",
    "\n",
    "# audio = preemphasis(audio, 0.97, True)\n",
    "# audio.max()\n",
    "# norm = np.abs(audio).max() * 0.999\n",
    "# audio = audio / norm\n",
    "# audio = audio/32768.0 \n",
    "# audio.max(), norm, audio.min()\n",
    "\n",
    "import yaml\n",
    "yaml.__version__\n",
    "with open('./conf/debugger.yaml') as f:\n",
    "    config = yaml.load(f, Loader=yaml.Loader)"
   ]
  },
  {
   "cell_type": "code",
   "execution_count": 52,
   "metadata": {},
   "outputs": [],
   "source": [
    "x_stft = librosa.stft(audio, n_fft=config['filter_length'], hop_length=config['hop_length'],\n",
    "                          win_length=config['win_length'], window='hann', pad_mode=\"constant\")\n",
    "spc = np.abs(x_stft).T  # (#frames, #bins)"
   ]
  },
  {
   "cell_type": "code",
   "execution_count": 53,
   "metadata": {},
   "outputs": [
    {
     "data": {
      "text/plain": [
       "(-0.11081199, -7.2125998)"
      ]
     },
     "execution_count": 53,
     "metadata": {},
     "output_type": "execute_result"
    }
   ],
   "source": [
    "mel_basis = librosa.filters.mel(16000, config['filter_length'], 80, 0, 8000)\n",
    "\n",
    "eps = 1e-10\n",
    "\n",
    "melspec = np.maximum(eps, np.dot(spc, mel_basis.T))\n",
    "\n",
    "logmelspec =  np.log10(np.maximum(eps, np.dot(spc**1.5, mel_basis.T)))*1\n",
    "logmelspec.max(), logmelspec.min()"
   ]
  },
  {
   "cell_type": "code",
   "execution_count": 54,
   "metadata": {},
   "outputs": [
    {
     "data": {
      "text/plain": [
       "(0.39113474, -0.17700815, 2.4338124, -1.6229801)"
      ]
     },
     "execution_count": 54,
     "metadata": {},
     "output_type": "execute_result"
    }
   ],
   "source": [
    "max_abs_value = 4\n",
    "min_level_db = -100\n",
    "\n",
    "min_level = np.exp(min_level_db / 10 * np.log(10))\n",
    "melspec_use  = np.log10(np.maximum(min_level, logmelspec))\n",
    "\n",
    "# melspec2 = np.clip((2*max_abs_value)*(melspec_use - 20 - min_level_db)/(-min_level_db) - max_abs_value,\n",
    "#              -4, 4)\n",
    "\n",
    "melspec2 = np.clip((2 * max_abs_value) * ((logmelspec -45 - min_level_db) / (-min_level_db)) - max_abs_value, -max_abs_value, max_abs_value)\n",
    "\n",
    "melspec3 = (logmelspec - logmelspec.mean())/logmelspec.var()\n",
    "\n",
    "melspec2.max(), melspec2.min(), melspec3.max(), melspec3.min()"
   ]
  },
  {
   "cell_type": "code",
   "execution_count": 55,
   "metadata": {},
   "outputs": [
    {
     "data": {
      "image/png": "[encoded data removed]",
      "text/plain": [
       "<matplotlib.figure.Figure at 0x216fce74c18>"
      ]
     },
     "metadata": {
      "needs_background": "light"
     },
     "output_type": "display_data"
    },
    {
     "data": {
      "image/png": "[encoded data removed]",
      "text/plain": [
       "<matplotlib.figure.Figure at 0x216fe4eb128>"
      ]
     },
     "metadata": {
      "needs_background": "light"
     },
     "output_type": "display_data"
    },
    {
     "data": {
      "text/plain": [
       "<matplotlib.axes._subplots.AxesSubplot at 0x216fe298ba8>"
      ]
     },
     "execution_count": 55,
     "metadata": {},
     "output_type": "execute_result"
    },
    {
     "data": {
      "image/png": "[encoded data removed]",
      "text/plain": [
       "<matplotlib.figure.Figure at 0x216fcca7400>"
      ]
     },
     "metadata": {
      "needs_background": "light"
     },
     "output_type": "display_data"
    }
   ],
   "source": [
    "import seaborn as sns \n",
    "import matplotlib.pyplot as plt\n",
    "sns.distplot(melspec2)\n",
    "plt.show()\n",
    "sns.distplot(melspec3)\n",
    "plt.show()\n",
    "sns.distplot(logmelspec)"
   ]
  },
  {
   "cell_type": "code",
   "execution_count": 56,
   "metadata": {},
   "outputs": [
    {
     "data": {
      "text/plain": [
       "(49170, 50549, 50628, 50549)"
      ]
     },
     "execution_count": 56,
     "metadata": {},
     "output_type": "execute_result"
    }
   ],
   "source": [
    "len(np.unique(melspec2)), len(np.unique(logmelspec)), len(np.unique(melspec)), len(np.unique(melspec3))"
   ]
  },
  {
   "cell_type": "code",
   "execution_count": 74,
   "metadata": {},
   "outputs": [],
   "source": [
    "def mel_normalize(x, ref_level_db = 45 ,max_abs_value=4.0, min_level_db=-100):\n",
    "    return np.clip((2 * max_abs_value) * ((x - ref_level_db - min_level_db) / (-min_level_db)) - max_abs_value,\n",
    "             -max_abs_value, max_abs_value)\n",
    "\n",
    "def mel_denormalize(x, ref_level_db = 45, max_abs_value=4.0, min_level_db=-100):\n",
    "    return (((np.clip(x, -max_abs_value,\n",
    "                max_abs_value) + max_abs_value) * -min_level_db / (2 * max_abs_value))\n",
    "                + min_level_db) + ref_level_db"
   ]
  },
  {
   "cell_type": "code",
   "execution_count": 75,
   "metadata": {},
   "outputs": [
    {
     "data": {
      "text/plain": [
       "(50640, 50640)"
      ]
     },
     "execution_count": 75,
     "metadata": {},
     "output_type": "execute_result"
    }
   ],
   "source": [
    "norm_mel = mel_normalize(logmelspec)\n",
    "(norm_mel == melspec2).sum(), norm_mel.shape[0]*norm_mel.shape[1]"
   ]
  },
  {
   "cell_type": "code",
   "execution_count": 84,
   "metadata": {},
   "outputs": [
    {
     "data": {
      "text/plain": [
       "(0, 50640)"
      ]
     },
     "execution_count": 84,
     "metadata": {},
     "output_type": "execute_result"
    }
   ],
   "source": [
    "denorm_mel = mel_denormalize(norm_mel) \n",
    "(norm_mel.round(4) == logmelspec.round(4)).sum(), norm_mel.shape[0]*norm_mel.shape[1]"
   ]
  },
  {
   "cell_type": "code",
   "execution_count": 82,
   "metadata": {},
   "outputs": [
    {
     "data": {
      "text/plain": [
       "array([[-2.0129, -2.291 , -2.6738, ..., -5.4963, -5.5682, -5.9426],\n",
       "       [-1.999 , -2.4283, -3.1381, ..., -5.705 , -5.8851, -6.2346],\n",
       "       [-2.3585, -2.7924, -3.2118, ..., -5.7072, -5.7978, -6.5768],\n",
       "       ...,\n",
       "       [-2.2409, -3.2621, -3.8048, ..., -6.2745, -6.278 , -7.0127],\n",
       "       [-1.9927, -2.9454, -4.1614, ..., -6.2102, -6.2542, -6.8769],\n",
       "       [-2.2078, -2.8603, -3.9519, ..., -6.1469, -6.15  , -6.3521]],\n",
       "      dtype=float32)"
      ]
     },
     "execution_count": 82,
     "metadata": {},
     "output_type": "execute_result"
    }
   ],
   "source": [
    "denorm_mel.round(4)"
   ]
  },
  {
   "cell_type": "code",
   "execution_count": 83,
   "metadata": {},
   "outputs": [
    {
     "data": {
      "text/plain": [
       "array([[-2.0129, -2.291 , -2.6738, ..., -5.4964, -5.5682, -5.9425],\n",
       "       [-1.999 , -2.4283, -3.1381, ..., -5.705 , -5.8851, -6.2346],\n",
       "       [-2.3585, -2.7924, -3.2118, ..., -5.7072, -5.7978, -6.5768],\n",
       "       ...,\n",
       "       [-2.2409, -3.2621, -3.8048, ..., -6.2745, -6.278 , -7.0127],\n",
       "       [-1.9927, -2.9454, -4.1614, ..., -6.2102, -6.2543, -6.8769],\n",
       "       [-2.2078, -2.8603, -3.9519, ..., -6.1469, -6.15  , -6.3521]],\n",
       "      dtype=float32)"
      ]
     },
     "execution_count": 83,
     "metadata": {},
     "output_type": "execute_result"
    }
   ],
   "source": [
    "logmelspec.round(4)"
   ]
  },
  {
   "cell_type": "code",
   "execution_count": 94,
   "metadata": {},
   "outputs": [
    {
     "data": {
      "text/plain": [
       "(633, 80)"
      ]
     },
     "execution_count": 94,
     "metadata": {},
     "output_type": "execute_result"
    }
   ],
   "source": [
    "norm_mel.shape"
   ]
  },
  {
   "cell_type": "code",
   "execution_count": 95,
   "metadata": {},
   "outputs": [
    {
     "data": {
      "text/plain": [
       "(633, 80)"
      ]
     },
     "execution_count": 95,
     "metadata": {},
     "output_type": "execute_result"
    }
   ],
   "source": [
    "logmelspec.shape"
   ]
  },
  {
   "cell_type": "code",
   "execution_count": 89,
   "metadata": {},
   "outputs": [
    {
     "name": "stdout",
     "output_type": "stream",
     "text": [
      "vipsign0001\n",
      "caso deseje ativar este número telefônico em outra oportunidade <pa/> ou utilizar outro número , logue-se no site da vipex , faça as alterações devidas <pa/> e solicite uma nova ativação .\n",
      "\n",
      "vipsign0002\n",
      "para ativar este telefone no sistema vipex , digite a sua senha , ou tecle jogo da velha para cancelar .\n",
      "\n",
      "vipsign0003\n",
      "ativação cancelada : altere sua senha vipex <pa/> e solicite nova ativação .\n",
      "\n",
      "vipsign0004\n",
      "cartório do quinto ofício de registro civil , títulos e documentos <pa/> e pessoas jurídicas do distrito federal .\n",
      "\n",
      "vipsign0005\n",
      "ativação concluída .\n",
      "\n",
      "vipsign0006\n",
      "compra confirmada .\n",
      "\n",
      "vipsign0007\n",
      "compra cancelada .\n",
      "\n",
      "vipsign0008\n",
      "para confirmar uma compra no valor de :\n",
      "\n",
      "vipsign0009\n",
      "vipex bom dia .\n",
      "\n",
      "vipsign0010\n",
      "vipex boa noite .\n",
      "\n",
      "vipsign0011\n",
      "senha incorreta , por favor , digite novamente .\n",
      "\n",
      "vipsign0012\n",
      "cartório do quinto ofício de registro de títulos e documentos do distrito federal . protocolo número :\n",
      "\n",
      "vipsign0013\n",
      "notificação negativa .\n",
      "\n",
      "vipsign0014\n",
      "notificação positiva .\n",
      "\n",
      "vipsign0015\n",
      "motivo apontado é : outros motivos diversos .\n",
      "\n",
      "vipsign0016\n",
      "motivo apontado é que : o destinatário mudou-se .\n",
      "\n",
      "vipsign0017\n",
      "motivo apontado é que : o destinatário estava ausente .\n",
      "\n",
      "vipsign0018\n",
      "motivo apontado é que a correspondência foi recusada .\n",
      "\n",
      "vipsign0019\n",
      "motivo apontado é que o destinatário é desconhecido no endereço .\n",
      "\n",
      "vipsign0020\n",
      "motivo apontado é que a correspondência não foi procurada na agência dos correios pelo destinatário , em local não servido por entrega domiciliar .\n",
      "\n",
      "vipsign0021\n",
      "motivo apontado é que o endereço é insuficiente .\n",
      "\n",
      "vipsign0022\n",
      "destinatário : fábio marcelo soares pamplona .\n",
      "\n",
      "vipsign0023\n",
      "vipex boa tarde .\n",
      "\n"
     ]
    }
   ],
   "source": [
    "with open('vipsign_norm.txt', 'r') as f:\n",
    "    for line in f:\n",
    "        N = len('vipsign')\n",
    "        print(line[:N+4])\n",
    "        print(line[N+6:])"
   ]
  },
  {
   "cell_type": "code",
   "execution_count": 92,
   "metadata": {},
   "outputs": [
    {
     "data": {
      "text/plain": [
       "False"
      ]
     },
     "execution_count": 92,
     "metadata": {},
     "output_type": "execute_result"
    }
   ],
   "source": [
    "wav_path = '/l/disl/'\n",
    "filename='123'\n",
    "import os\n",
    "\n",
    "os.path.isfile(os.path.join(wav_path, filename + '.wav'))"
   ]
  },
  {
   "cell_type": "code",
   "execution_count": null,
   "metadata": {},
   "outputs": [],
   "source": []
  }
 ],
 "metadata": {
  "kernelspec": {
   "display_name": "m_audio",
   "language": "python",
   "name": "m_audio"
  },
  "language_info": {
   "codemirror_mode": {
    "name": "ipython",
    "version": 3
   },
   "file_extension": ".py",
   "mimetype": "text/x-python",
   "name": "python",
   "nbconvert_exporter": "python",
   "pygments_lexer": "ipython3",
   "version": "3.6.9"
  }
 },
 "nbformat": 4,
 "nbformat_minor": 4
}
