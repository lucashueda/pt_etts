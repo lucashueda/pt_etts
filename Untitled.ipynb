{
 "cells": [
  {
   "cell_type": "code",
   "execution_count": 10,
   "metadata": {},
   "outputs": [
    {
     "name": "stdout",
     "output_type": "stream",
     "text": [
      "['#p', 'ac', 'ff', \"'aa\", 'zz', 'ic', 'll', \"'oh\", 'gg', 'uc', 'aa', 'pp', \"'oh\", 'zz', 'ac', 'pp', 'rd', 'oo', 'kk', 'll', 'aa', 'mm', 'aa', 'ss', \"'an\", 'wn', 'ff', 'ii', 'kk', \"'oo\", 'uw', 'kk', 'on', 'nh', 'ee', 'ss', \"'ii\", 'dd', 'ac', 'kk', \"'oo\", 'mm', 'uc', 'rx', 'ee', 'pp', \"'uu\", 'bb', 'll', 'ic', 'kk', 'ac', 'vv', \"'eh\", 'lh', 'ac', '#p'] 57\n"
     ]
    }
   ],
   "source": [
    "with open('bia030006.lab' , 'r') as f:\n",
    "    for line in f.readlines():\n",
    "        if(\"phones\" in line[:10]):\n",
    "            print(line[10:].replace('|', '').split(), len(line[10:].replace('|', '').split()))"
   ]
  },
  {
   "cell_type": "code",
   "execution_count": null,
   "metadata": {},
   "outputs": [],
   "source": []
  }
 ],
 "metadata": {
  "kernelspec": {
   "display_name": "m_audio",
   "language": "python",
   "name": "m_audio"
  },
  "language_info": {
   "codemirror_mode": {
    "name": "ipython",
    "version": 3
   },
   "file_extension": ".py",
   "mimetype": "text/x-python",
   "name": "python",
   "nbconvert_exporter": "python",
   "pygments_lexer": "ipython3",
   "version": "3.6.9"
  }
 },
 "nbformat": 4,
 "nbformat_minor": 4
}
