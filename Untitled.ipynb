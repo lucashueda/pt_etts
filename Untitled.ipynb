{
 "cells": [
  {
   "cell_type": "code",
   "execution_count": 11,
   "metadata": {},
   "outputs": [
    {
     "name": "stdout",
     "output_type": "stream",
     "text": [
      "oi\n",
      "{'epochs': 500, 'iters_per_checkpoint': 1000, 'seed': 1234, 'dynamic_loss_scaling': True, 'fp16_run': False, 'distributed_run': False, 'dist_backend': 'nccl', 'dist_url': 'tcp://localhost:54321', 'cudnn_enabled': True, 'cudnn_benchmark': False, 'ignore_layers': ['embedding.weight'], 'max_wav_value': 32768.0, 'sampling_rate': 16000, 'filter_length': 512, 'hop_length': 128, 'win_length': 512, 'n_mel_channels': 80, 'mel_fmin': 0.0, 'mel_fmax': 8000.0, 'window': 'hann', 'max_seq_mel': 800, 'trim_frame_size': 2048, 'trim_hop_size': 512, 'trim_treshold_in_db': 60}\n"
     ]
    }
   ],
   "source": [
    "! python data_preprocess.py --conf \"./conf/debugger.yaml\""
   ]
  },
  {
   "cell_type": "code",
   "execution_count": 9,
   "metadata": {},
   "outputs": [],
   "source": [
    "! python aaa.py"
   ]
  },
  {
   "cell_type": "code",
   "execution_count": 1,
   "metadata": {},
   "outputs": [],
   "source": [
    "from src.text import symbols"
   ]
  },
  {
   "cell_type": "code",
   "execution_count": 12,
   "metadata": {},
   "outputs": [],
   "source": [
    "import os"
   ]
  },
  {
   "cell_type": "code",
   "execution_count": 199,
   "metadata": {},
   "outputs": [
    {
     "data": {
      "text/html": [
       "<div>\n",
       "<style scoped>\n",
       "    .dataframe tbody tr th:only-of-type {\n",
       "        vertical-align: middle;\n",
       "    }\n",
       "\n",
       "    .dataframe tbody tr th {\n",
       "        vertical-align: top;\n",
       "    }\n",
       "\n",
       "    .dataframe thead th {\n",
       "        text-align: right;\n",
       "    }\n",
       "</style>\n",
       "<table border=\"1\" class=\"dataframe\">\n",
       "  <thead>\n",
       "    <tr style=\"text-align: right;\">\n",
       "      <th></th>\n",
       "      <th>wav_path</th>\n",
       "      <th>text</th>\n",
       "      <th>emb_id</th>\n",
       "    </tr>\n",
       "  </thead>\n",
       "  <tbody>\n",
       "    <tr>\n",
       "      <th>0</th>\n",
       "      <td>./data/VCTK/VCTK-Corpus/wav48/p225/p225_001.wav</td>\n",
       "      <td>Please call Stella.</td>\n",
       "      <td>225</td>\n",
       "    </tr>\n",
       "    <tr>\n",
       "      <th>1</th>\n",
       "      <td>./data/VCTK/VCTK-Corpus/wav48/p225/p225_002.wav</td>\n",
       "      <td>Ask her to bring these things with her from th...</td>\n",
       "      <td>225</td>\n",
       "    </tr>\n",
       "    <tr>\n",
       "      <th>2</th>\n",
       "      <td>./data/VCTK/VCTK-Corpus/wav48/p225/p225_003.wav</td>\n",
       "      <td>Six spoons of fresh snow peas, five thick slab...</td>\n",
       "      <td>225</td>\n",
       "    </tr>\n",
       "    <tr>\n",
       "      <th>3</th>\n",
       "      <td>./data/VCTK/VCTK-Corpus/wav48/p225/p225_004.wav</td>\n",
       "      <td>We also need a small plastic snake and a big t...</td>\n",
       "      <td>225</td>\n",
       "    </tr>\n",
       "    <tr>\n",
       "      <th>4</th>\n",
       "      <td>./data/VCTK/VCTK-Corpus/wav48/p225/p225_005.wav</td>\n",
       "      <td>She can scoop these things into three red bags...</td>\n",
       "      <td>225</td>\n",
       "    </tr>\n",
       "  </tbody>\n",
       "</table>\n",
       "</div>"
      ],
      "text/plain": [
       "                                          wav_path  \\\n",
       "0  ./data/VCTK/VCTK-Corpus/wav48/p225/p225_001.wav   \n",
       "1  ./data/VCTK/VCTK-Corpus/wav48/p225/p225_002.wav   \n",
       "2  ./data/VCTK/VCTK-Corpus/wav48/p225/p225_003.wav   \n",
       "3  ./data/VCTK/VCTK-Corpus/wav48/p225/p225_004.wav   \n",
       "4  ./data/VCTK/VCTK-Corpus/wav48/p225/p225_005.wav   \n",
       "\n",
       "                                                text  emb_id  \n",
       "0                                Please call Stella.     225  \n",
       "1  Ask her to bring these things with her from th...     225  \n",
       "2  Six spoons of fresh snow peas, five thick slab...     225  \n",
       "3  We also need a small plastic snake and a big t...     225  \n",
       "4  She can scoop these things into three red bags...     225  "
      ]
     },
     "execution_count": 199,
     "metadata": {},
     "output_type": "execute_result"
    }
   ],
   "source": [
    "# Gerando csv com textos e caminhos\n",
    "import os\n",
    "\n",
    "vctk_path = './data/VCTK/VCTK-Corpus/'\n",
    "\n",
    "wav_files = []\n",
    "text_files = []\n",
    "speaker_id = []\n",
    "\n",
    "corromp = []\n",
    "\n",
    "# Versão que cria linha a linha tem criado algumas linhas bugadas.\n",
    "# with open('vctk_aux_df.txt', 'w') as writer:\n",
    "    \n",
    "#     writer.write('wav_path|text|emb_id\\n')\n",
    "    \n",
    "#     for file in os.listdir(vctk_path):\n",
    "#         if(file=='txt'):\n",
    "#             text_path = os.path.join(vctk_path,file)\n",
    "#             wav_path = os.path.join(vctk_path, 'wav48')\n",
    "#             for speaker in os.listdir(text_path):\n",
    "#                 text_speaker_path = os.path.join(text_path, speaker)\n",
    "#                 wav_speaker_path = os.path.join(wav_path, speaker)\n",
    "\n",
    "#                 for txt in os.listdir(text_speaker_path):\n",
    "#                     full_text_speaker_path = os.path.join(text_speaker_path, txt)\n",
    "#                     full_wav_speaker_path = os.path.join(wav_speaker_path, txt[:-4] + '.wav')\n",
    "\n",
    "#                     wav_files.append(full_wav_speaker_path)\n",
    "\n",
    "#                     if(os.path.isfile(full_text_speaker_path) and os.path.isfile(full_wav_speaker_path)):\n",
    "#                         with open(full_text_speaker_path) as f:\n",
    "#                             readed = f.read()\n",
    "#                             text_file = readed.replace('\\r','').replace('\\n','')\n",
    "#                             if(len(text_file) <= 1):\n",
    "#                                 print('texto vazio')\n",
    "                                \n",
    "#                         wav_file = full_wav_speaker_path.replace('\\\\','/')\n",
    "                        \n",
    "#                         line = wav_file + '|' + text_file[:-1] + '|' + txt[1:4].replace('\\r','').replace('\\n','') +'\\n'\n",
    "                        \n",
    "#                         writer.write(line)\n",
    "                    \n",
    "#                     else:\n",
    "#                         print(\"Arquivo corrompido encontrado!\")\n",
    "#                         corromp.append(txt)\n",
    "\n",
    "\n",
    "\n",
    "\n",
    "\n",
    "    \n",
    "for file in os.listdir(vctk_path):\n",
    "    if(file=='txt'):\n",
    "        text_path = os.path.join(vctk_path,file)\n",
    "        wav_path = os.path.join(vctk_path, 'wav48')\n",
    "        for speaker in os.listdir(text_path):\n",
    "            text_speaker_path = os.path.join(text_path, speaker)\n",
    "            wav_speaker_path = os.path.join(wav_path, speaker)\n",
    "\n",
    "            for txt in os.listdir(text_speaker_path):\n",
    "                full_text_speaker_path = os.path.join(text_speaker_path, txt)\n",
    "                full_wav_speaker_path = os.path.join(wav_speaker_path, txt[:-4] + '.wav')\n",
    "\n",
    "                # wav_files.append(full_wav_speaker_path)\n",
    "\n",
    "                if(os.path.isfile(full_text_speaker_path) and os.path.isfile(full_wav_speaker_path)):\n",
    "                    with open(full_text_speaker_path) as f:\n",
    "                        readed = f.read()\n",
    "                        text_file = readed.replace('\\r','').replace('\\n','').replace('''\"''','' )\n",
    "\n",
    "                    wav_file = full_wav_speaker_path.replace('\\\\','/')\n",
    "                    wav_files.append(wav_file)\n",
    "                    text_files.append(text_file)\n",
    "                    speaker_id.append(txt[1:4])\n",
    "\n",
    "                    # line = wav_file + '|' + text_file[:-1] + '|' + txt[1:4] +'\\n'\n",
    "                    \n",
    "                    # writer.write(line)\n",
    "                \n",
    "                else:\n",
    "                    print(\"Arquivo corrompido encontrado!\")\n",
    "                    corromp.append(txt)\n",
    "                    \n",
    "df = pd.DataFrame({'wav_path':wav_files, 'text': text_files, 'emb_id': np.array(speaker_id).astype(int)})\n",
    "df.head()"
   ]
  },
  {
   "cell_type": "code",
   "execution_count": 200,
   "metadata": {},
   "outputs": [
    {
     "data": {
      "text/html": [
       "<div>\n",
       "<style scoped>\n",
       "    .dataframe tbody tr th:only-of-type {\n",
       "        vertical-align: middle;\n",
       "    }\n",
       "\n",
       "    .dataframe tbody tr th {\n",
       "        vertical-align: top;\n",
       "    }\n",
       "\n",
       "    .dataframe thead th {\n",
       "        text-align: right;\n",
       "    }\n",
       "</style>\n",
       "<table border=\"1\" class=\"dataframe\">\n",
       "  <thead>\n",
       "    <tr style=\"text-align: right;\">\n",
       "      <th></th>\n",
       "      <th>wav_path</th>\n",
       "      <th>text</th>\n",
       "      <th>emb_id</th>\n",
       "    </tr>\n",
       "  </thead>\n",
       "  <tbody>\n",
       "    <tr>\n",
       "      <th>0</th>\n",
       "      <td>./data/VCTK/VCTK-Corpus/wav48/p225/p225_001.wav</td>\n",
       "      <td>Please call Stella.</td>\n",
       "      <td>225</td>\n",
       "    </tr>\n",
       "    <tr>\n",
       "      <th>1</th>\n",
       "      <td>./data/VCTK/VCTK-Corpus/wav48/p225/p225_002.wav</td>\n",
       "      <td>Ask her to bring these things with her from th...</td>\n",
       "      <td>225</td>\n",
       "    </tr>\n",
       "    <tr>\n",
       "      <th>2</th>\n",
       "      <td>./data/VCTK/VCTK-Corpus/wav48/p225/p225_003.wav</td>\n",
       "      <td>Six spoons of fresh snow peas, five thick slab...</td>\n",
       "      <td>225</td>\n",
       "    </tr>\n",
       "    <tr>\n",
       "      <th>3</th>\n",
       "      <td>./data/VCTK/VCTK-Corpus/wav48/p225/p225_004.wav</td>\n",
       "      <td>We also need a small plastic snake and a big t...</td>\n",
       "      <td>225</td>\n",
       "    </tr>\n",
       "    <tr>\n",
       "      <th>4</th>\n",
       "      <td>./data/VCTK/VCTK-Corpus/wav48/p225/p225_005.wav</td>\n",
       "      <td>She can scoop these things into three red bags...</td>\n",
       "      <td>225</td>\n",
       "    </tr>\n",
       "    <tr>\n",
       "      <th>...</th>\n",
       "      <td>...</td>\n",
       "      <td>...</td>\n",
       "      <td>...</td>\n",
       "    </tr>\n",
       "    <tr>\n",
       "      <th>44065</th>\n",
       "      <td>./data/VCTK/VCTK-Corpus/wav48/p376/p376_291.wav</td>\n",
       "      <td>I have tonight resigned as a member of the Eur...</td>\n",
       "      <td>376</td>\n",
       "    </tr>\n",
       "    <tr>\n",
       "      <th>44066</th>\n",
       "      <td>./data/VCTK/VCTK-Corpus/wav48/p376/p376_292.wav</td>\n",
       "      <td>The move was welcomed by the Roman Catholic Ch...</td>\n",
       "      <td>376</td>\n",
       "    </tr>\n",
       "    <tr>\n",
       "      <th>44067</th>\n",
       "      <td>./data/VCTK/VCTK-Corpus/wav48/p376/p376_293.wav</td>\n",
       "      <td>That might be a punishment but it would also p...</td>\n",
       "      <td>376</td>\n",
       "    </tr>\n",
       "    <tr>\n",
       "      <th>44068</th>\n",
       "      <td>./data/VCTK/VCTK-Corpus/wav48/p376/p376_294.wav</td>\n",
       "      <td>He has retired.</td>\n",
       "      <td>376</td>\n",
       "    </tr>\n",
       "    <tr>\n",
       "      <th>44069</th>\n",
       "      <td>./data/VCTK/VCTK-Corpus/wav48/p376/p376_295.wav</td>\n",
       "      <td>It became a book by itself.</td>\n",
       "      <td>376</td>\n",
       "    </tr>\n",
       "  </tbody>\n",
       "</table>\n",
       "<p>44070 rows × 3 columns</p>\n",
       "</div>"
      ],
      "text/plain": [
       "                                              wav_path  \\\n",
       "0      ./data/VCTK/VCTK-Corpus/wav48/p225/p225_001.wav   \n",
       "1      ./data/VCTK/VCTK-Corpus/wav48/p225/p225_002.wav   \n",
       "2      ./data/VCTK/VCTK-Corpus/wav48/p225/p225_003.wav   \n",
       "3      ./data/VCTK/VCTK-Corpus/wav48/p225/p225_004.wav   \n",
       "4      ./data/VCTK/VCTK-Corpus/wav48/p225/p225_005.wav   \n",
       "...                                                ...   \n",
       "44065  ./data/VCTK/VCTK-Corpus/wav48/p376/p376_291.wav   \n",
       "44066  ./data/VCTK/VCTK-Corpus/wav48/p376/p376_292.wav   \n",
       "44067  ./data/VCTK/VCTK-Corpus/wav48/p376/p376_293.wav   \n",
       "44068  ./data/VCTK/VCTK-Corpus/wav48/p376/p376_294.wav   \n",
       "44069  ./data/VCTK/VCTK-Corpus/wav48/p376/p376_295.wav   \n",
       "\n",
       "                                                    text  emb_id  \n",
       "0                                    Please call Stella.     225  \n",
       "1      Ask her to bring these things with her from th...     225  \n",
       "2      Six spoons of fresh snow peas, five thick slab...     225  \n",
       "3      We also need a small plastic snake and a big t...     225  \n",
       "4      She can scoop these things into three red bags...     225  \n",
       "...                                                  ...     ...  \n",
       "44065  I have tonight resigned as a member of the Eur...     376  \n",
       "44066  The move was welcomed by the Roman Catholic Ch...     376  \n",
       "44067  That might be a punishment but it would also p...     376  \n",
       "44068                                    He has retired.     376  \n",
       "44069                        It became a book by itself.     376  \n",
       "\n",
       "[44070 rows x 3 columns]"
      ]
     },
     "execution_count": 200,
     "metadata": {},
     "output_type": "execute_result"
    }
   ],
   "source": [
    "df"
   ]
  },
  {
   "cell_type": "code",
   "execution_count": 189,
   "metadata": {},
   "outputs": [],
   "source": [
    "N = len('/data/VCTK/VCTK-Corpus/wav48/p376/p376_295.wav')\n",
    "\n"
   ]
  },
  {
   "cell_type": "code",
   "execution_count": 192,
   "metadata": {},
   "outputs": [
    {
     "data": {
      "text/html": [
       "<div>\n",
       "<style scoped>\n",
       "    .dataframe tbody tr th:only-of-type {\n",
       "        vertical-align: middle;\n",
       "    }\n",
       "\n",
       "    .dataframe tbody tr th {\n",
       "        vertical-align: top;\n",
       "    }\n",
       "\n",
       "    .dataframe thead th {\n",
       "        text-align: right;\n",
       "    }\n",
       "</style>\n",
       "<table border=\"1\" class=\"dataframe\">\n",
       "  <thead>\n",
       "    <tr style=\"text-align: right;\">\n",
       "      <th></th>\n",
       "      <th>wav_path</th>\n",
       "      <th>text</th>\n",
       "      <th>emb_id</th>\n",
       "      <th>len</th>\n",
       "    </tr>\n",
       "  </thead>\n",
       "  <tbody>\n",
       "  </tbody>\n",
       "</table>\n",
       "</div>"
      ],
      "text/plain": [
       "Empty DataFrame\n",
       "Columns: [wav_path, text, emb_id, len]\n",
       "Index: []"
      ]
     },
     "execution_count": 192,
     "metadata": {},
     "output_type": "execute_result"
    }
   ],
   "source": [
    "df_aux = df.copy()\n",
    "df_aux['len'] = df.wav_path.str.len()\n",
    "df_aux[df_aux.len > N + 1]"
   ]
  },
  {
   "cell_type": "code",
   "execution_count": null,
   "metadata": {},
   "outputs": [],
   "source": []
  },
  {
   "cell_type": "code",
   "execution_count": 175,
   "metadata": {},
   "outputs": [
    {
     "data": {
      "text/plain": [
       "'./data/VCTK/VCTK-Corpus/wav48'"
      ]
     },
     "execution_count": 175,
     "metadata": {},
     "output_type": "execute_result"
    }
   ],
   "source": [
    "os.path.join(vctk_path, 'wav48')"
   ]
  },
  {
   "cell_type": "code",
   "execution_count": 176,
   "metadata": {},
   "outputs": [
    {
     "data": {
      "text/plain": [
       "True"
      ]
     },
     "execution_count": 176,
     "metadata": {},
     "output_type": "execute_result"
    }
   ],
   "source": [
    "os.path.isfile('./data/VCTK/VCTK-Corpus/txt\\p225\\p225_356.txt')"
   ]
  },
  {
   "cell_type": "code",
   "execution_count": 177,
   "metadata": {},
   "outputs": [
    {
     "name": "stdout",
     "output_type": "stream",
     "text": [
      "I said he was set to retire.\n",
      "\n"
     ]
    }
   ],
   "source": [
    "with open('./data/VCTK/VCTK-Corpus/txt\\p225\\p225_356.txt') as f:\n",
    "    a = f.read()\n",
    "    print(a)\n",
    "    "
   ]
  },
  {
   "cell_type": "code",
   "execution_count": 178,
   "metadata": {},
   "outputs": [
    {
     "data": {
      "text/plain": [
       "'I said he was set to retire.\\n'"
      ]
     },
     "execution_count": 178,
     "metadata": {},
     "output_type": "execute_result"
    }
   ],
   "source": [
    "a"
   ]
  },
  {
   "cell_type": "code",
   "execution_count": 179,
   "metadata": {},
   "outputs": [],
   "source": [
    "with open('test.txt', 'w') as f:\n",
    "    msg = 'f , b , c \\n'\n",
    "    \n",
    "    f.write(msg)\n",
    "    \n",
    "    msg = 'f , b , c \\n'\n",
    "    \n",
    "    f.write(msg)\n",
    "    \n",
    "    msg = 'f , 2 , c \\n'\n",
    "    \n",
    "    f.write(msg)"
   ]
  },
  {
   "cell_type": "code",
   "execution_count": 180,
   "metadata": {},
   "outputs": [],
   "source": [
    "import pandas as pd"
   ]
  },
  {
   "cell_type": "code",
   "execution_count": 183,
   "metadata": {},
   "outputs": [
    {
     "data": {
      "text/html": [
       "<div>\n",
       "<style scoped>\n",
       "    .dataframe tbody tr th:only-of-type {\n",
       "        vertical-align: middle;\n",
       "    }\n",
       "\n",
       "    .dataframe tbody tr th {\n",
       "        vertical-align: top;\n",
       "    }\n",
       "\n",
       "    .dataframe thead th {\n",
       "        text-align: right;\n",
       "    }\n",
       "</style>\n",
       "<table border=\"1\" class=\"dataframe\">\n",
       "  <thead>\n",
       "    <tr style=\"text-align: right;\">\n",
       "      <th></th>\n",
       "      <th>wav_path</th>\n",
       "      <th>text</th>\n",
       "      <th>emb_id</th>\n",
       "    </tr>\n",
       "  </thead>\n",
       "  <tbody>\n",
       "    <tr>\n",
       "      <th>0</th>\n",
       "      <td>./data/VCTK/VCTK-Corpus/wav48/p225/p225_001.wav</td>\n",
       "      <td>Please call Stella</td>\n",
       "      <td>225</td>\n",
       "    </tr>\n",
       "    <tr>\n",
       "      <th>1</th>\n",
       "      <td>./data/VCTK/VCTK-Corpus/wav48/p225/p225_002.wav</td>\n",
       "      <td>Ask her to bring these things with her from th...</td>\n",
       "      <td>225</td>\n",
       "    </tr>\n",
       "    <tr>\n",
       "      <th>2</th>\n",
       "      <td>./data/VCTK/VCTK-Corpus/wav48/p225/p225_003.wav</td>\n",
       "      <td>Six spoons of fresh snow peas, five thick slab...</td>\n",
       "      <td>225</td>\n",
       "    </tr>\n",
       "    <tr>\n",
       "      <th>3</th>\n",
       "      <td>./data/VCTK/VCTK-Corpus/wav48/p225/p225_004.wav</td>\n",
       "      <td>We also need a small plastic snake and a big t...</td>\n",
       "      <td>225</td>\n",
       "    </tr>\n",
       "    <tr>\n",
       "      <th>4</th>\n",
       "      <td>./data/VCTK/VCTK-Corpus/wav48/p225/p225_005.wav</td>\n",
       "      <td>She can scoop these things into three red bags...</td>\n",
       "      <td>225</td>\n",
       "    </tr>\n",
       "    <tr>\n",
       "      <th>...</th>\n",
       "      <td>...</td>\n",
       "      <td>...</td>\n",
       "      <td>...</td>\n",
       "    </tr>\n",
       "    <tr>\n",
       "      <th>43919</th>\n",
       "      <td>./data/VCTK/VCTK-Corpus/wav48/p376/p376_286.wav</td>\n",
       "      <td>He added that public transport improvements mu...</td>\n",
       "      <td>376</td>\n",
       "    </tr>\n",
       "    <tr>\n",
       "      <th>43920</th>\n",
       "      <td>./data/VCTK/VCTK-Corpus/wav48/p376/p376_288.wav</td>\n",
       "      <td>He should have won.|376\\r\\n./data/VCTK/VCTK-Co...</td>\n",
       "      <td>376</td>\n",
       "    </tr>\n",
       "    <tr>\n",
       "      <th>43921</th>\n",
       "      <td>./data/VCTK/VCTK-Corpus/wav48/p376/p376_290.wav</td>\n",
       "      <td>A new school will be built.|376\\r\\n./data/VCTK...</td>\n",
       "      <td>376</td>\n",
       "    </tr>\n",
       "    <tr>\n",
       "      <th>43922</th>\n",
       "      <td>./data/VCTK/VCTK-Corpus/wav48/p376/p376_292.wav</td>\n",
       "      <td>The move was welcomed by the Roman Catholic Ch...</td>\n",
       "      <td>376</td>\n",
       "    </tr>\n",
       "    <tr>\n",
       "      <th>43923</th>\n",
       "      <td>./data/VCTK/VCTK-Corpus/wav48/p376/p376_294.wav</td>\n",
       "      <td>He has retired.|376\\r\\n./data/VCTK/VCTK-Corpus...</td>\n",
       "      <td>376</td>\n",
       "    </tr>\n",
       "  </tbody>\n",
       "</table>\n",
       "<p>43924 rows × 3 columns</p>\n",
       "</div>"
      ],
      "text/plain": [
       "                                              wav_path  \\\n",
       "0      ./data/VCTK/VCTK-Corpus/wav48/p225/p225_001.wav   \n",
       "1      ./data/VCTK/VCTK-Corpus/wav48/p225/p225_002.wav   \n",
       "2      ./data/VCTK/VCTK-Corpus/wav48/p225/p225_003.wav   \n",
       "3      ./data/VCTK/VCTK-Corpus/wav48/p225/p225_004.wav   \n",
       "4      ./data/VCTK/VCTK-Corpus/wav48/p225/p225_005.wav   \n",
       "...                                                ...   \n",
       "43919  ./data/VCTK/VCTK-Corpus/wav48/p376/p376_286.wav   \n",
       "43920  ./data/VCTK/VCTK-Corpus/wav48/p376/p376_288.wav   \n",
       "43921  ./data/VCTK/VCTK-Corpus/wav48/p376/p376_290.wav   \n",
       "43922  ./data/VCTK/VCTK-Corpus/wav48/p376/p376_292.wav   \n",
       "43923  ./data/VCTK/VCTK-Corpus/wav48/p376/p376_294.wav   \n",
       "\n",
       "                                                    text  emb_id  \n",
       "0                                     Please call Stella     225  \n",
       "1      Ask her to bring these things with her from th...     225  \n",
       "2      Six spoons of fresh snow peas, five thick slab...     225  \n",
       "3      We also need a small plastic snake and a big t...     225  \n",
       "4      She can scoop these things into three red bags...     225  \n",
       "...                                                  ...     ...  \n",
       "43919  He added that public transport improvements mu...     376  \n",
       "43920  He should have won.|376\\r\\n./data/VCTK/VCTK-Co...     376  \n",
       "43921  A new school will be built.|376\\r\\n./data/VCTK...     376  \n",
       "43922  The move was welcomed by the Roman Catholic Ch...     376  \n",
       "43923  He has retired.|376\\r\\n./data/VCTK/VCTK-Corpus...     376  \n",
       "\n",
       "[43924 rows x 3 columns]"
      ]
     },
     "execution_count": 183,
     "metadata": {},
     "output_type": "execute_result"
    }
   ],
   "source": [
    "df = pd.read_csv('vctk_aux_df.txt', sep='|')\n",
    "df"
   ]
  },
  {
   "cell_type": "code",
   "execution_count": 184,
   "metadata": {},
   "outputs": [
    {
     "data": {
      "text/plain": [
       "'He has retired.|376./data/VCTK/VCTK-Corpus/wav48/p376/p376_295.wav|It became a book by itself.'"
      ]
     },
     "execution_count": 184,
     "metadata": {},
     "output_type": "execute_result"
    }
   ],
   "source": [
    "df.text.values[-1].replace('\\r','').replace('\\n','')"
   ]
  },
  {
   "cell_type": "code",
   "execution_count": null,
   "metadata": {},
   "outputs": [],
   "source": []
  },
  {
   "cell_type": "code",
   "execution_count": null,
   "metadata": {},
   "outputs": [],
   "source": []
  },
  {
   "cell_type": "code",
   "execution_count": null,
   "metadata": {},
   "outputs": [],
   "source": []
  },
  {
   "cell_type": "code",
   "execution_count": 193,
   "metadata": {},
   "outputs": [],
   "source": [
    "\n",
    "from sklearn.model_selection import train_test_split"
   ]
  },
  {
   "cell_type": "code",
   "execution_count": 201,
   "metadata": {},
   "outputs": [],
   "source": [
    "df_train, df_val, speaker_id, speaker_id = train_test_split(df, df['emb_id'], test_size = 0.1, random_state = 42, stratify = df['emb_id'])"
   ]
  },
  {
   "cell_type": "code",
   "execution_count": 202,
   "metadata": {},
   "outputs": [
    {
     "data": {
      "text/html": [
       "<div>\n",
       "<style scoped>\n",
       "    .dataframe tbody tr th:only-of-type {\n",
       "        vertical-align: middle;\n",
       "    }\n",
       "\n",
       "    .dataframe tbody tr th {\n",
       "        vertical-align: top;\n",
       "    }\n",
       "\n",
       "    .dataframe thead th {\n",
       "        text-align: right;\n",
       "    }\n",
       "</style>\n",
       "<table border=\"1\" class=\"dataframe\">\n",
       "  <thead>\n",
       "    <tr style=\"text-align: right;\">\n",
       "      <th></th>\n",
       "      <th>wav_path</th>\n",
       "      <th>text</th>\n",
       "      <th>emb_id</th>\n",
       "    </tr>\n",
       "  </thead>\n",
       "  <tbody>\n",
       "    <tr>\n",
       "      <th>18344</th>\n",
       "      <td>./data/VCTK/VCTK-Corpus/wav48/p272/p272_280.wav</td>\n",
       "      <td>The condition of their adoption was that they ...</td>\n",
       "      <td>272</td>\n",
       "    </tr>\n",
       "    <tr>\n",
       "      <th>5037</th>\n",
       "      <td>./data/VCTK/VCTK-Corpus/wav48/p239/p239_038.wav</td>\n",
       "      <td>How do you take them away ?</td>\n",
       "      <td>239</td>\n",
       "    </tr>\n",
       "    <tr>\n",
       "      <th>38620</th>\n",
       "      <td>./data/VCTK/VCTK-Corpus/wav48/p339/p339_144.wav</td>\n",
       "      <td>He was part of the family.</td>\n",
       "      <td>339</td>\n",
       "    </tr>\n",
       "    <tr>\n",
       "      <th>28898</th>\n",
       "      <td>./data/VCTK/VCTK-Corpus/wav48/p301/p301_261.wav</td>\n",
       "      <td>We're not travel agents.</td>\n",
       "      <td>301</td>\n",
       "    </tr>\n",
       "    <tr>\n",
       "      <th>10055</th>\n",
       "      <td>./data/VCTK/VCTK-Corpus/wav48/p252/p252_279.wav</td>\n",
       "      <td>Those three goals in five minutes changed the ...</td>\n",
       "      <td>252</td>\n",
       "    </tr>\n",
       "    <tr>\n",
       "      <th>...</th>\n",
       "      <td>...</td>\n",
       "      <td>...</td>\n",
       "      <td>...</td>\n",
       "    </tr>\n",
       "    <tr>\n",
       "      <th>31647</th>\n",
       "      <td>./data/VCTK/VCTK-Corpus/wav48/p308/p308_320.wav</td>\n",
       "      <td>I couldn't see any reason not to die.</td>\n",
       "      <td>308</td>\n",
       "    </tr>\n",
       "    <tr>\n",
       "      <th>11976</th>\n",
       "      <td>./data/VCTK/VCTK-Corpus/wav48/p257/p257_323.wav</td>\n",
       "      <td>It is so unfair.</td>\n",
       "      <td>257</td>\n",
       "    </tr>\n",
       "    <tr>\n",
       "      <th>34743</th>\n",
       "      <td>./data/VCTK/VCTK-Corpus/wav48/p318/p318_044.wav</td>\n",
       "      <td>We have not had a formal request.</td>\n",
       "      <td>318</td>\n",
       "    </tr>\n",
       "    <tr>\n",
       "      <th>18681</th>\n",
       "      <td>./data/VCTK/VCTK-Corpus/wav48/p273/p273_206.wav</td>\n",
       "      <td>It will affect their work.</td>\n",
       "      <td>273</td>\n",
       "    </tr>\n",
       "    <tr>\n",
       "      <th>12261</th>\n",
       "      <td>./data/VCTK/VCTK-Corpus/wav48/p258/p258_174.wav</td>\n",
       "      <td>There is no evidence of a Little Scotland emer...</td>\n",
       "      <td>258</td>\n",
       "    </tr>\n",
       "  </tbody>\n",
       "</table>\n",
       "<p>39663 rows × 3 columns</p>\n",
       "</div>"
      ],
      "text/plain": [
       "                                              wav_path  \\\n",
       "18344  ./data/VCTK/VCTK-Corpus/wav48/p272/p272_280.wav   \n",
       "5037   ./data/VCTK/VCTK-Corpus/wav48/p239/p239_038.wav   \n",
       "38620  ./data/VCTK/VCTK-Corpus/wav48/p339/p339_144.wav   \n",
       "28898  ./data/VCTK/VCTK-Corpus/wav48/p301/p301_261.wav   \n",
       "10055  ./data/VCTK/VCTK-Corpus/wav48/p252/p252_279.wav   \n",
       "...                                                ...   \n",
       "31647  ./data/VCTK/VCTK-Corpus/wav48/p308/p308_320.wav   \n",
       "11976  ./data/VCTK/VCTK-Corpus/wav48/p257/p257_323.wav   \n",
       "34743  ./data/VCTK/VCTK-Corpus/wav48/p318/p318_044.wav   \n",
       "18681  ./data/VCTK/VCTK-Corpus/wav48/p273/p273_206.wav   \n",
       "12261  ./data/VCTK/VCTK-Corpus/wav48/p258/p258_174.wav   \n",
       "\n",
       "                                                    text  emb_id  \n",
       "18344  The condition of their adoption was that they ...     272  \n",
       "5037                         How do you take them away ?     239  \n",
       "38620                         He was part of the family.     339  \n",
       "28898                           We're not travel agents.     301  \n",
       "10055  Those three goals in five minutes changed the ...     252  \n",
       "...                                                  ...     ...  \n",
       "31647              I couldn't see any reason not to die.     308  \n",
       "11976                                   It is so unfair.     257  \n",
       "34743                  We have not had a formal request.     318  \n",
       "18681                         It will affect their work.     273  \n",
       "12261  There is no evidence of a Little Scotland emer...     258  \n",
       "\n",
       "[39663 rows x 3 columns]"
      ]
     },
     "execution_count": 202,
     "metadata": {},
     "output_type": "execute_result"
    }
   ],
   "source": [
    "df_train"
   ]
  },
  {
   "cell_type": "code",
   "execution_count": 203,
   "metadata": {},
   "outputs": [
    {
     "data": {
      "text/plain": [
       "239    50\n",
       "236    49\n",
       "259    48\n",
       "250    48\n",
       "264    48\n",
       "       ..\n",
       "256    32\n",
       "302    31\n",
       "364    30\n",
       "376    29\n",
       "225    23\n",
       "Name: emb_id, Length: 108, dtype: int64"
      ]
     },
     "execution_count": 203,
     "metadata": {},
     "output_type": "execute_result"
    }
   ],
   "source": [
    "df_val['emb_id'].value_counts(ascending= False)"
   ]
  },
  {
   "cell_type": "code",
   "execution_count": 204,
   "metadata": {},
   "outputs": [
    {
     "data": {
      "text/html": [
       "<div>\n",
       "<style scoped>\n",
       "    .dataframe tbody tr th:only-of-type {\n",
       "        vertical-align: middle;\n",
       "    }\n",
       "\n",
       "    .dataframe tbody tr th {\n",
       "        vertical-align: top;\n",
       "    }\n",
       "\n",
       "    .dataframe thead th {\n",
       "        text-align: right;\n",
       "    }\n",
       "</style>\n",
       "<table border=\"1\" class=\"dataframe\">\n",
       "  <thead>\n",
       "    <tr style=\"text-align: right;\">\n",
       "      <th></th>\n",
       "      <th>wav_path</th>\n",
       "      <th>text</th>\n",
       "      <th>emb_id</th>\n",
       "    </tr>\n",
       "  </thead>\n",
       "  <tbody>\n",
       "    <tr>\n",
       "      <th>133</th>\n",
       "      <td>./data/VCTK/VCTK-Corpus/wav48/p225/p225_211.wav</td>\n",
       "      <td>He added that he was very sad about O Neill.</td>\n",
       "      <td>225</td>\n",
       "    </tr>\n",
       "    <tr>\n",
       "      <th>189</th>\n",
       "      <td>./data/VCTK/VCTK-Corpus/wav48/p225/p225_308.wav</td>\n",
       "      <td>I thought his speech was a disgrace.</td>\n",
       "      <td>225</td>\n",
       "    </tr>\n",
       "    <tr>\n",
       "      <th>163</th>\n",
       "      <td>./data/VCTK/VCTK-Corpus/wav48/p225/p225_274.wav</td>\n",
       "      <td>We have not reached the point of no return.</td>\n",
       "      <td>225</td>\n",
       "    </tr>\n",
       "    <tr>\n",
       "      <th>190</th>\n",
       "      <td>./data/VCTK/VCTK-Corpus/wav48/p225/p225_309.wav</td>\n",
       "      <td>Are they free ?</td>\n",
       "      <td>225</td>\n",
       "    </tr>\n",
       "    <tr>\n",
       "      <th>3</th>\n",
       "      <td>./data/VCTK/VCTK-Corpus/wav48/p225/p225_004.wav</td>\n",
       "      <td>We also need a small plastic snake and a big t...</td>\n",
       "      <td>225</td>\n",
       "    </tr>\n",
       "    <tr>\n",
       "      <th>217</th>\n",
       "      <td>./data/VCTK/VCTK-Corpus/wav48/p225/p225_349.wav</td>\n",
       "      <td>How do you take them away ?</td>\n",
       "      <td>225</td>\n",
       "    </tr>\n",
       "    <tr>\n",
       "      <th>145</th>\n",
       "      <td>./data/VCTK/VCTK-Corpus/wav48/p225/p225_237.wav</td>\n",
       "      <td>Frankly, we were lucky to get second.</td>\n",
       "      <td>225</td>\n",
       "    </tr>\n",
       "    <tr>\n",
       "      <th>205</th>\n",
       "      <td>./data/VCTK/VCTK-Corpus/wav48/p225/p225_328.wav</td>\n",
       "      <td>It is just a tax on employment.</td>\n",
       "      <td>225</td>\n",
       "    </tr>\n",
       "    <tr>\n",
       "      <th>131</th>\n",
       "      <td>./data/VCTK/VCTK-Corpus/wav48/p225/p225_208.wav</td>\n",
       "      <td>You are a great player.</td>\n",
       "      <td>225</td>\n",
       "    </tr>\n",
       "    <tr>\n",
       "      <th>53</th>\n",
       "      <td>./data/VCTK/VCTK-Corpus/wav48/p225/p225_065.wav</td>\n",
       "      <td>There is no pressure on us.</td>\n",
       "      <td>225</td>\n",
       "    </tr>\n",
       "    <tr>\n",
       "      <th>1</th>\n",
       "      <td>./data/VCTK/VCTK-Corpus/wav48/p225/p225_002.wav</td>\n",
       "      <td>Ask her to bring these things with her from th...</td>\n",
       "      <td>225</td>\n",
       "    </tr>\n",
       "    <tr>\n",
       "      <th>43</th>\n",
       "      <td>./data/VCTK/VCTK-Corpus/wav48/p225/p225_054.wav</td>\n",
       "      <td>Four other charges were dropped.</td>\n",
       "      <td>225</td>\n",
       "    </tr>\n",
       "    <tr>\n",
       "      <th>49</th>\n",
       "      <td>./data/VCTK/VCTK-Corpus/wav48/p225/p225_061.wav</td>\n",
       "      <td>Saddam is not the only example of evil in our ...</td>\n",
       "      <td>225</td>\n",
       "    </tr>\n",
       "    <tr>\n",
       "      <th>171</th>\n",
       "      <td>./data/VCTK/VCTK-Corpus/wav48/p225/p225_285.wav</td>\n",
       "      <td>We have to break that cycle.</td>\n",
       "      <td>225</td>\n",
       "    </tr>\n",
       "    <tr>\n",
       "      <th>105</th>\n",
       "      <td>./data/VCTK/VCTK-Corpus/wav48/p225/p225_157.wav</td>\n",
       "      <td>He was asked to quit.</td>\n",
       "      <td>225</td>\n",
       "    </tr>\n",
       "    <tr>\n",
       "      <th>80</th>\n",
       "      <td>./data/VCTK/VCTK-Corpus/wav48/p225/p225_118.wav</td>\n",
       "      <td>We suffered a lot for seven years.</td>\n",
       "      <td>225</td>\n",
       "    </tr>\n",
       "    <tr>\n",
       "      <th>7</th>\n",
       "      <td>./data/VCTK/VCTK-Corpus/wav48/p225/p225_008.wav</td>\n",
       "      <td>These take the shape of a long round arch, wit...</td>\n",
       "      <td>225</td>\n",
       "    </tr>\n",
       "    <tr>\n",
       "      <th>201</th>\n",
       "      <td>./data/VCTK/VCTK-Corpus/wav48/p225/p225_323.wav</td>\n",
       "      <td>It is a court case.</td>\n",
       "      <td>225</td>\n",
       "    </tr>\n",
       "    <tr>\n",
       "      <th>103</th>\n",
       "      <td>./data/VCTK/VCTK-Corpus/wav48/p225/p225_153.wav</td>\n",
       "      <td>We have a clean bill of health.</td>\n",
       "      <td>225</td>\n",
       "    </tr>\n",
       "    <tr>\n",
       "      <th>174</th>\n",
       "      <td>./data/VCTK/VCTK-Corpus/wav48/p225/p225_289.wav</td>\n",
       "      <td>Motherwell have no such good fortune.</td>\n",
       "      <td>225</td>\n",
       "    </tr>\n",
       "    <tr>\n",
       "      <th>161</th>\n",
       "      <td>./data/VCTK/VCTK-Corpus/wav48/p225/p225_268.wav</td>\n",
       "      <td>I realised I was lucky to have it.</td>\n",
       "      <td>225</td>\n",
       "    </tr>\n",
       "    <tr>\n",
       "      <th>198</th>\n",
       "      <td>./data/VCTK/VCTK-Corpus/wav48/p225/p225_319.wav</td>\n",
       "      <td>There's still a bit to go.</td>\n",
       "      <td>225</td>\n",
       "    </tr>\n",
       "    <tr>\n",
       "      <th>34</th>\n",
       "      <td>./data/VCTK/VCTK-Corpus/wav48/p225/p225_039.wav</td>\n",
       "      <td>However, the decision has been welcomed by Sco...</td>\n",
       "      <td>225</td>\n",
       "    </tr>\n",
       "  </tbody>\n",
       "</table>\n",
       "</div>"
      ],
      "text/plain": [
       "                                            wav_path  \\\n",
       "133  ./data/VCTK/VCTK-Corpus/wav48/p225/p225_211.wav   \n",
       "189  ./data/VCTK/VCTK-Corpus/wav48/p225/p225_308.wav   \n",
       "163  ./data/VCTK/VCTK-Corpus/wav48/p225/p225_274.wav   \n",
       "190  ./data/VCTK/VCTK-Corpus/wav48/p225/p225_309.wav   \n",
       "3    ./data/VCTK/VCTK-Corpus/wav48/p225/p225_004.wav   \n",
       "217  ./data/VCTK/VCTK-Corpus/wav48/p225/p225_349.wav   \n",
       "145  ./data/VCTK/VCTK-Corpus/wav48/p225/p225_237.wav   \n",
       "205  ./data/VCTK/VCTK-Corpus/wav48/p225/p225_328.wav   \n",
       "131  ./data/VCTK/VCTK-Corpus/wav48/p225/p225_208.wav   \n",
       "53   ./data/VCTK/VCTK-Corpus/wav48/p225/p225_065.wav   \n",
       "1    ./data/VCTK/VCTK-Corpus/wav48/p225/p225_002.wav   \n",
       "43   ./data/VCTK/VCTK-Corpus/wav48/p225/p225_054.wav   \n",
       "49   ./data/VCTK/VCTK-Corpus/wav48/p225/p225_061.wav   \n",
       "171  ./data/VCTK/VCTK-Corpus/wav48/p225/p225_285.wav   \n",
       "105  ./data/VCTK/VCTK-Corpus/wav48/p225/p225_157.wav   \n",
       "80   ./data/VCTK/VCTK-Corpus/wav48/p225/p225_118.wav   \n",
       "7    ./data/VCTK/VCTK-Corpus/wav48/p225/p225_008.wav   \n",
       "201  ./data/VCTK/VCTK-Corpus/wav48/p225/p225_323.wav   \n",
       "103  ./data/VCTK/VCTK-Corpus/wav48/p225/p225_153.wav   \n",
       "174  ./data/VCTK/VCTK-Corpus/wav48/p225/p225_289.wav   \n",
       "161  ./data/VCTK/VCTK-Corpus/wav48/p225/p225_268.wav   \n",
       "198  ./data/VCTK/VCTK-Corpus/wav48/p225/p225_319.wav   \n",
       "34   ./data/VCTK/VCTK-Corpus/wav48/p225/p225_039.wav   \n",
       "\n",
       "                                                  text  emb_id  \n",
       "133       He added that he was very sad about O Neill.     225  \n",
       "189               I thought his speech was a disgrace.     225  \n",
       "163        We have not reached the point of no return.     225  \n",
       "190                                    Are they free ?     225  \n",
       "3    We also need a small plastic snake and a big t...     225  \n",
       "217                        How do you take them away ?     225  \n",
       "145              Frankly, we were lucky to get second.     225  \n",
       "205                    It is just a tax on employment.     225  \n",
       "131                            You are a great player.     225  \n",
       "53                         There is no pressure on us.     225  \n",
       "1    Ask her to bring these things with her from th...     225  \n",
       "43                    Four other charges were dropped.     225  \n",
       "49   Saddam is not the only example of evil in our ...     225  \n",
       "171                       We have to break that cycle.     225  \n",
       "105                              He was asked to quit.     225  \n",
       "80                  We suffered a lot for seven years.     225  \n",
       "7    These take the shape of a long round arch, wit...     225  \n",
       "201                                It is a court case.     225  \n",
       "103                    We have a clean bill of health.     225  \n",
       "174              Motherwell have no such good fortune.     225  \n",
       "161                 I realised I was lucky to have it.     225  \n",
       "198                         There's still a bit to go.     225  \n",
       "34   However, the decision has been welcomed by Sco...     225  "
      ]
     },
     "execution_count": 204,
     "metadata": {},
     "output_type": "execute_result"
    }
   ],
   "source": [
    "df_val[df_val['emb_id'] == 225]"
   ]
  },
  {
   "cell_type": "code",
   "execution_count": 205,
   "metadata": {},
   "outputs": [],
   "source": [
    "df_train.to_csv('vctk_train.csv', index = False)\n",
    "df_val.to_csv('vctk_val.csv', index = False)"
   ]
  },
  {
   "cell_type": "code",
   "execution_count": 206,
   "metadata": {},
   "outputs": [],
   "source": [
    "df_train.sample(60).to_csv('vctk_train_sampled.csv', index = False)\n",
    "df_val.sample(60).to_csv('vctk_val_sampled.csv', index = False)"
   ]
  },
  {
   "cell_type": "code",
   "execution_count": 100,
   "metadata": {
    "scrolled": true
   },
   "outputs": [
    {
     "data": {
      "text/plain": [
       "'p277_186'"
      ]
     },
     "execution_count": 100,
     "metadata": {},
     "output_type": "execute_result"
    }
   ],
   "source": [
    "df_train.wav_path.values[0].rsplit('\\\\', 1)[-1][:-4]"
   ]
  },
  {
   "cell_type": "code",
   "execution_count": 103,
   "metadata": {},
   "outputs": [
    {
     "data": {
      "text/plain": [
       "'./vctk%20aux/sad.csv'"
      ]
     },
     "execution_count": 103,
     "metadata": {},
     "output_type": "execute_result"
    }
   ],
   "source": [
    "'./vctk%20aux/vctk_train.csv'.rsplit('/',1)[-2] + '/sad.csv'"
   ]
  },
  {
   "cell_type": "code",
   "execution_count": null,
   "metadata": {},
   "outputs": [],
   "source": []
  },
  {
   "cell_type": "code",
   "execution_count": 78,
   "metadata": {},
   "outputs": [
    {
     "data": {
      "text/plain": [
       "278"
      ]
     },
     "execution_count": 78,
     "metadata": {},
     "output_type": "execute_result"
    }
   ],
   "source": [
    "df_val[' speaker_id '].values[0]"
   ]
  },
  {
   "cell_type": "code",
   "execution_count": null,
   "metadata": {},
   "outputs": [],
   "source": []
  },
  {
   "cell_type": "code",
   "execution_count": 66,
   "metadata": {},
   "outputs": [
    {
     "data": {
      "text/plain": [
       "Index(['wav_path ', ' text ', ' speaker_id '], dtype='object')"
      ]
     },
     "execution_count": 66,
     "metadata": {},
     "output_type": "execute_result"
    }
   ],
   "source": [
    "df.columns"
   ]
  },
  {
   "cell_type": "code",
   "execution_count": 54,
   "metadata": {},
   "outputs": [
    {
     "name": "stdout",
     "output_type": "stream",
     "text": [
      "wav_path | text | speaker_id \n",
      "\n",
      "./data/VCTK/VCTK-Corpus/wav48\\p225\\p225_001.wav | Please call Stella.\n",
      "\n",
      " | 225\n",
      "\n",
      "./data/VCTK/VCTK-Corpus/wav48\\p225\\p225_002.wav | Ask her to bring these things with her from the store.\n",
      "\n",
      " | 225\n",
      "\n",
      "./data/VCTK/VCTK-Corpus/wav48\\p225\\p225_003.wav | Six spoons of fresh snow peas, five thick slabs of blue cheese, and maybe a snack for her brother Bob.\n",
      "\n",
      " | 225\n",
      "\n",
      "./data/VCTK/VCTK-Corpus/wav48\\p225\\p225_004.wav | We also need a small plastic snake and a big toy frog for the kids.\n",
      "\n",
      " | 225\n",
      "\n",
      "./data/VCTK/VCTK-Corpus/wav48\\p225\\p225_005.wav | She can scoop these things into three red bags, and we will go meet her Wednesday at the train station.\n",
      "\n",
      " | 225\n",
      "\n"
     ]
    }
   ],
   "source": [
    "i = 0\n",
    "with open('vctk_aux_df.txt') as f:\n",
    "    for l in f:\n",
    "        print(l)\n",
    "        i += 1 \n",
    "        if(i> 10):\n",
    "            break"
   ]
  },
  {
   "cell_type": "code",
   "execution_count": 43,
   "metadata": {},
   "outputs": [
    {
     "data": {
      "text/plain": [
       "False"
      ]
     },
     "execution_count": 43,
     "metadata": {},
     "output_type": "execute_result"
    }
   ],
   "source": [
    "os.path.isfile(full_text_speaker_path) and os.path.isfile(full_wav_speaker_path)"
   ]
  },
  {
   "cell_type": "code",
   "execution_count": 44,
   "metadata": {},
   "outputs": [
    {
     "data": {
      "text/plain": [
       "True"
      ]
     },
     "execution_count": 44,
     "metadata": {},
     "output_type": "execute_result"
    }
   ],
   "source": [
    "os.path.isfile(full_text_speaker_path)"
   ]
  },
  {
   "cell_type": "code",
   "execution_count": 45,
   "metadata": {},
   "outputs": [
    {
     "data": {
      "text/plain": [
       "False"
      ]
     },
     "execution_count": 45,
     "metadata": {},
     "output_type": "execute_result"
    }
   ],
   "source": [
    "os.path.isfile(full_wav_speaker_path)"
   ]
  },
  {
   "cell_type": "code",
   "execution_count": 46,
   "metadata": {},
   "outputs": [
    {
     "data": {
      "text/plain": [
       "'./data/VCTK/VCTK-Corpus/wav48\\\\p376\\\\p376_295.txt'"
      ]
     },
     "execution_count": 46,
     "metadata": {},
     "output_type": "execute_result"
    }
   ],
   "source": [
    "full_wav_speaker_path"
   ]
  },
  {
   "cell_type": "code",
   "execution_count": 207,
   "metadata": {},
   "outputs": [
    {
     "name": "stdout",
     "output_type": "stream",
     "text": [
      "Saving train features in ./mel_outputs\\train folder.\n",
      "Training features created. Auxiliar dataframe created in ./vctk_aux\n",
      "Saving validation features in ./mel_outputs\\val folder.\n",
      "Validation features created. Auxiliar dataframe created in ./vctk_aux\n"
     ]
    }
   ],
   "source": [
    "! python data_preprocess.py --output_directory \"./mel_outputs\" --conf \"./conf/debugger.yaml\""
   ]
  },
  {
   "cell_type": "code",
   "execution_count": 208,
   "metadata": {},
   "outputs": [
    {
     "data": {
      "text/plain": [
       "(39663, 5)"
      ]
     },
     "execution_count": 208,
     "metadata": {},
     "output_type": "execute_result"
    }
   ],
   "source": [
    "test = pd.read_csv('./vctk_aux/train_df_with_mels.csv', error_bad_lines=False)\n",
    "test.shape"
   ]
  },
  {
   "cell_type": "code",
   "execution_count": 213,
   "metadata": {},
   "outputs": [
    {
     "data": {
      "text/html": [
       "<div>\n",
       "<style scoped>\n",
       "    .dataframe tbody tr th:only-of-type {\n",
       "        vertical-align: middle;\n",
       "    }\n",
       "\n",
       "    .dataframe tbody tr th {\n",
       "        vertical-align: top;\n",
       "    }\n",
       "\n",
       "    .dataframe thead th {\n",
       "        text-align: right;\n",
       "    }\n",
       "</style>\n",
       "<table border=\"1\" class=\"dataframe\">\n",
       "  <thead>\n",
       "    <tr style=\"text-align: right;\">\n",
       "      <th></th>\n",
       "      <th>wav_path</th>\n",
       "      <th>text</th>\n",
       "      <th>emb_id</th>\n",
       "      <th>mel_dirs</th>\n",
       "      <th>durations</th>\n",
       "    </tr>\n",
       "  </thead>\n",
       "  <tbody>\n",
       "    <tr>\n",
       "      <th>24055</th>\n",
       "      <td>./data/VCTK/VCTK-Corpus/wav48/p318/p318_011.wav</td>\n",
       "      <td>When a man looks for something beyond his reac...</td>\n",
       "      <td>318</td>\n",
       "      <td>./mel_outputs/train/24000/p318_011.npy</td>\n",
       "      <td>6.38600</td>\n",
       "    </tr>\n",
       "    <tr>\n",
       "      <th>16016</th>\n",
       "      <td>./data/VCTK/VCTK-Corpus/wav48/p284/p284_024.wav</td>\n",
       "      <td>This is a very common type of bow, one showing...</td>\n",
       "      <td>284</td>\n",
       "      <td>./mel_outputs/train/16000/p284_024.npy</td>\n",
       "      <td>6.38600</td>\n",
       "    </tr>\n",
       "    <tr>\n",
       "      <th>3452</th>\n",
       "      <td>./data/VCTK/VCTK-Corpus/wav48/p316/p316_004.wav</td>\n",
       "      <td>We also need a small plastic snake and a big t...</td>\n",
       "      <td>316</td>\n",
       "      <td>./mel_outputs/train/3250/p316_004.npy</td>\n",
       "      <td>6.38600</td>\n",
       "    </tr>\n",
       "    <tr>\n",
       "      <th>14502</th>\n",
       "      <td>./data/VCTK/VCTK-Corpus/wav48/p246/p246_024.wav</td>\n",
       "      <td>This is a very common type of bow, one showing...</td>\n",
       "      <td>246</td>\n",
       "      <td>./mel_outputs/train/14500/p246_024.npy</td>\n",
       "      <td>6.38600</td>\n",
       "    </tr>\n",
       "    <tr>\n",
       "      <th>14680</th>\n",
       "      <td>./data/VCTK/VCTK-Corpus/wav48/p231/p231_021.wav</td>\n",
       "      <td>The difference in the rainbow depends consider...</td>\n",
       "      <td>231</td>\n",
       "      <td>./mel_outputs/train/14500/p231_021.npy</td>\n",
       "      <td>6.37825</td>\n",
       "    </tr>\n",
       "    <tr>\n",
       "      <th>...</th>\n",
       "      <td>...</td>\n",
       "      <td>...</td>\n",
       "      <td>...</td>\n",
       "      <td>...</td>\n",
       "      <td>...</td>\n",
       "    </tr>\n",
       "    <tr>\n",
       "      <th>4773</th>\n",
       "      <td>./data/VCTK/VCTK-Corpus/wav48/p360/p360_126.wav</td>\n",
       "      <td>Or was it?</td>\n",
       "      <td>360</td>\n",
       "      <td>./mel_outputs/train/4750/p360_126.npy</td>\n",
       "      <td>0.48825</td>\n",
       "    </tr>\n",
       "    <tr>\n",
       "      <th>36492</th>\n",
       "      <td>./data/VCTK/VCTK-Corpus/wav48/p260/p260_037.wav</td>\n",
       "      <td>It's a fact.</td>\n",
       "      <td>260</td>\n",
       "      <td>./mel_outputs/train/36250/p260_037.npy</td>\n",
       "      <td>0.48825</td>\n",
       "    </tr>\n",
       "    <tr>\n",
       "      <th>26391</th>\n",
       "      <td>./data/VCTK/VCTK-Corpus/wav48/p280/p280_152.wav</td>\n",
       "      <td>Did it work ?</td>\n",
       "      <td>280</td>\n",
       "      <td>./mel_outputs/train/26250/p280_152.npy</td>\n",
       "      <td>0.48825</td>\n",
       "    </tr>\n",
       "    <tr>\n",
       "      <th>8172</th>\n",
       "      <td>./data/VCTK/VCTK-Corpus/wav48/p287/p287_277.wav</td>\n",
       "      <td>Did he trip ?</td>\n",
       "      <td>287</td>\n",
       "      <td>./mel_outputs/train/8000/p287_277.npy</td>\n",
       "      <td>0.46500</td>\n",
       "    </tr>\n",
       "    <tr>\n",
       "      <th>6276</th>\n",
       "      <td>./data/VCTK/VCTK-Corpus/wav48/p250/p250_100.wav</td>\n",
       "      <td>And does it ?</td>\n",
       "      <td>250</td>\n",
       "      <td>./mel_outputs/train/6250/p250_100.npy</td>\n",
       "      <td>0.43400</td>\n",
       "    </tr>\n",
       "  </tbody>\n",
       "</table>\n",
       "<p>39043 rows × 5 columns</p>\n",
       "</div>"
      ],
      "text/plain": [
       "                                              wav_path  \\\n",
       "24055  ./data/VCTK/VCTK-Corpus/wav48/p318/p318_011.wav   \n",
       "16016  ./data/VCTK/VCTK-Corpus/wav48/p284/p284_024.wav   \n",
       "3452   ./data/VCTK/VCTK-Corpus/wav48/p316/p316_004.wav   \n",
       "14502  ./data/VCTK/VCTK-Corpus/wav48/p246/p246_024.wav   \n",
       "14680  ./data/VCTK/VCTK-Corpus/wav48/p231/p231_021.wav   \n",
       "...                                                ...   \n",
       "4773   ./data/VCTK/VCTK-Corpus/wav48/p360/p360_126.wav   \n",
       "36492  ./data/VCTK/VCTK-Corpus/wav48/p260/p260_037.wav   \n",
       "26391  ./data/VCTK/VCTK-Corpus/wav48/p280/p280_152.wav   \n",
       "8172   ./data/VCTK/VCTK-Corpus/wav48/p287/p287_277.wav   \n",
       "6276   ./data/VCTK/VCTK-Corpus/wav48/p250/p250_100.wav   \n",
       "\n",
       "                                                    text  emb_id  \\\n",
       "24055  When a man looks for something beyond his reac...     318   \n",
       "16016  This is a very common type of bow, one showing...     284   \n",
       "3452   We also need a small plastic snake and a big t...     316   \n",
       "14502  This is a very common type of bow, one showing...     246   \n",
       "14680  The difference in the rainbow depends consider...     231   \n",
       "...                                                  ...     ...   \n",
       "4773                                          Or was it?     360   \n",
       "36492                                       It's a fact.     260   \n",
       "26391                                      Did it work ?     280   \n",
       "8172                                       Did he trip ?     287   \n",
       "6276                                       And does it ?     250   \n",
       "\n",
       "                                     mel_dirs  durations  \n",
       "24055  ./mel_outputs/train/24000/p318_011.npy    6.38600  \n",
       "16016  ./mel_outputs/train/16000/p284_024.npy    6.38600  \n",
       "3452    ./mel_outputs/train/3250/p316_004.npy    6.38600  \n",
       "14502  ./mel_outputs/train/14500/p246_024.npy    6.38600  \n",
       "14680  ./mel_outputs/train/14500/p231_021.npy    6.37825  \n",
       "...                                       ...        ...  \n",
       "4773    ./mel_outputs/train/4750/p360_126.npy    0.48825  \n",
       "36492  ./mel_outputs/train/36250/p260_037.npy    0.48825  \n",
       "26391  ./mel_outputs/train/26250/p280_152.npy    0.48825  \n",
       "8172    ./mel_outputs/train/8000/p287_277.npy    0.46500  \n",
       "6276    ./mel_outputs/train/6250/p250_100.npy    0.43400  \n",
       "\n",
       "[39043 rows x 5 columns]"
      ]
     },
     "execution_count": 213,
     "metadata": {},
     "output_type": "execute_result"
    }
   ],
   "source": [
    "test[test['mel_dirs']!= 'ERROR_LIMITED_SIZE_ABOVE'].sort_values(by='durations', ascending= False)"
   ]
  },
  {
   "cell_type": "code",
   "execution_count": 214,
   "metadata": {},
   "outputs": [
    {
     "data": {
      "text/plain": [
       "'Did he trip ?'"
      ]
     },
     "execution_count": 214,
     "metadata": {},
     "output_type": "execute_result"
    }
   ],
   "source": [
    "test.sort_values(by='durations', ascending= False).text.values[-2]"
   ]
  },
  {
   "cell_type": "code",
   "execution_count": 215,
   "metadata": {},
   "outputs": [
    {
     "data": {
      "text/plain": [
       "27.02475243055555"
      ]
     },
     "execution_count": 215,
     "metadata": {},
     "output_type": "execute_result"
    }
   ],
   "source": [
    "test.durations.sum()/3600"
   ]
  },
  {
   "cell_type": "code",
   "execution_count": 217,
   "metadata": {},
   "outputs": [
    {
     "data": {
      "text/plain": [
       "(55, 80)"
      ]
     },
     "execution_count": 217,
     "metadata": {},
     "output_type": "execute_result"
    }
   ],
   "source": [
    "import numpy as np\n",
    "np.load('./mel_outputs/train/6250/p250_100.npy').shape"
   ]
  },
  {
   "cell_type": "code",
   "execution_count": 23,
   "metadata": {},
   "outputs": [],
   "source": [
    "import pandas as pd"
   ]
  },
  {
   "cell_type": "code",
   "execution_count": 24,
   "metadata": {},
   "outputs": [],
   "source": [
    "# Process to input in model\n",
    "\n",
    "train = pd.read_csv('./vctk_aux/train_df_with_mels.csv', error_bad_lines=False)\n",
    "val = pd.read_csv('./vctk_aux/val_df_with_mels.csv', error_bad_lines=False)\n",
    "\n",
    "train['emb_id'] = train['emb_id'].astype(str)\n",
    "val['emb_id'] = val['emb_id'].astype(str)"
   ]
  },
  {
   "cell_type": "code",
   "execution_count": 25,
   "metadata": {},
   "outputs": [],
   "source": [
    "train[['mel_dirs','text','emb_id']].to_csv('train.txt',header=None, index = False, sep='|')\n",
    "val[['mel_dirs','text','emb_id']].to_csv('val.txt',header=None, index = False, sep='|')"
   ]
  },
  {
   "cell_type": "code",
   "execution_count": 26,
   "metadata": {},
   "outputs": [],
   "source": [
    "train[train['mel_dirs']!= 'ERROR_LIMITED_SIZE_ABOVE'][['mel_dirs','text','emb_id']].to_csv('train.txt',header=None, index = False, sep='|')\n",
    "val[val['mel_dirs']!= 'ERROR_LIMITED_SIZE_ABOVE'][['mel_dirs','text','emb_id']].to_csv('val.txt',header=None, index = False, sep='|')"
   ]
  },
  {
   "cell_type": "code",
   "execution_count": 223,
   "metadata": {},
   "outputs": [
    {
     "name": "stderr",
     "output_type": "stream",
     "text": [
      "C:\\Users\\lucas\\Anaconda3\\envs\\m_audio\\lib\\site-packages\\ipykernel_launcher.py:1: UserWarning: Boolean Series key will be reindexed to match DataFrame index.\n",
      "  \"\"\"Entry point for launching an IPython kernel.\n",
      "C:\\Users\\lucas\\Anaconda3\\envs\\m_audio\\lib\\site-packages\\ipykernel_launcher.py:2: UserWarning: Boolean Series key will be reindexed to match DataFrame index.\n",
      "  \n"
     ]
    }
   ],
   "source": [
    "train.sample(100)[train['mel_dirs']!= 'ERROR_LIMITED_SIZE_ABOVE'][['mel_dirs','text','emb_id']].to_csv('train_debug.txt',header=None, index = False, sep='|')\n",
    "val.sample(20)[val['mel_dirs']!= 'ERROR_LIMITED_SIZE_ABOVE'][['mel_dirs','text','emb_id']].to_csv('val_debug.txt',header=None, index = False, sep='|')"
   ]
  },
  {
   "cell_type": "code",
   "execution_count": 227,
   "metadata": {},
   "outputs": [
    {
     "ename": "ModuleNotFoundError",
     "evalue": "No module named 'unidecode'",
     "output_type": "error",
     "traceback": [
      "\u001b[1;31m---------------------------------------------------------------------------\u001b[0m",
      "\u001b[1;31mModuleNotFoundError\u001b[0m                       Traceback (most recent call last)",
      "\u001b[1;32m<ipython-input-227-756beb6d87a7>\u001b[0m in \u001b[0;36m<module>\u001b[1;34m\u001b[0m\n\u001b[1;32m----> 1\u001b[1;33m \u001b[1;32mfrom\u001b[0m \u001b[0msrc\u001b[0m\u001b[1;33m.\u001b[0m\u001b[0mtext\u001b[0m \u001b[1;32mimport\u001b[0m \u001b[0msymbols\u001b[0m\u001b[1;33m\u001b[0m\u001b[1;33m\u001b[0m\u001b[0m\n\u001b[0m",
      "\u001b[1;32mD:\\Mestrado\\Emotion Audio Synthesis (TTS)\\repo_final\\pt_etts\\src\\text\\__init__.py\u001b[0m in \u001b[0;36m<module>\u001b[1;34m\u001b[0m\n\u001b[0;32m      1\u001b[0m \u001b[1;34m\"\"\" from https://github.com/keithito/tacotron \"\"\"\u001b[0m\u001b[1;33m\u001b[0m\u001b[1;33m\u001b[0m\u001b[0m\n\u001b[0;32m      2\u001b[0m \u001b[1;32mimport\u001b[0m \u001b[0mre\u001b[0m\u001b[1;33m\u001b[0m\u001b[1;33m\u001b[0m\u001b[0m\n\u001b[1;32m----> 3\u001b[1;33m \u001b[1;32mfrom\u001b[0m \u001b[0msrc\u001b[0m\u001b[1;33m.\u001b[0m\u001b[0mtext\u001b[0m \u001b[1;32mimport\u001b[0m \u001b[0mcleaners\u001b[0m\u001b[1;33m\u001b[0m\u001b[1;33m\u001b[0m\u001b[0m\n\u001b[0m\u001b[0;32m      4\u001b[0m \u001b[1;32mfrom\u001b[0m \u001b[0msrc\u001b[0m\u001b[1;33m.\u001b[0m\u001b[0mtext\u001b[0m\u001b[1;33m.\u001b[0m\u001b[0msymbols\u001b[0m \u001b[1;32mimport\u001b[0m \u001b[0msymbols\u001b[0m\u001b[1;33m\u001b[0m\u001b[1;33m\u001b[0m\u001b[0m\n\u001b[0;32m      5\u001b[0m \u001b[1;33m\u001b[0m\u001b[0m\n",
      "\u001b[1;32mD:\\Mestrado\\Emotion Audio Synthesis (TTS)\\repo_final\\pt_etts\\src\\text\\cleaners.py\u001b[0m in \u001b[0;36m<module>\u001b[1;34m\u001b[0m\n\u001b[0;32m     14\u001b[0m \u001b[1;33m\u001b[0m\u001b[0m\n\u001b[0;32m     15\u001b[0m \u001b[1;32mimport\u001b[0m \u001b[0mre\u001b[0m\u001b[1;33m\u001b[0m\u001b[1;33m\u001b[0m\u001b[0m\n\u001b[1;32m---> 16\u001b[1;33m \u001b[1;32mfrom\u001b[0m \u001b[0munidecode\u001b[0m \u001b[1;32mimport\u001b[0m \u001b[0munidecode\u001b[0m\u001b[1;33m\u001b[0m\u001b[1;33m\u001b[0m\u001b[0m\n\u001b[0m\u001b[0;32m     17\u001b[0m \u001b[1;32mfrom\u001b[0m \u001b[1;33m.\u001b[0m\u001b[0mnumbers\u001b[0m \u001b[1;32mimport\u001b[0m \u001b[0mnormalize_numbers\u001b[0m\u001b[1;33m\u001b[0m\u001b[1;33m\u001b[0m\u001b[0m\n\u001b[0;32m     18\u001b[0m \u001b[1;33m\u001b[0m\u001b[0m\n",
      "\u001b[1;31mModuleNotFoundError\u001b[0m: No module named 'unidecode'"
     ]
    }
   ],
   "source": [
    "from src.text import symbols"
   ]
  },
  {
   "cell_type": "code",
   "execution_count": 230,
   "metadata": {},
   "outputs": [
    {
     "ename": "ModuleNotFoundError",
     "evalue": "No module named 'unidecode'",
     "output_type": "error",
     "traceback": [
      "\u001b[1;31m---------------------------------------------------------------------------\u001b[0m",
      "\u001b[1;31mModuleNotFoundError\u001b[0m                       Traceback (most recent call last)",
      "\u001b[1;32m<ipython-input-230-ac175eb4bb21>\u001b[0m in \u001b[0;36m<module>\u001b[1;34m\u001b[0m\n\u001b[0;32m      1\u001b[0m \u001b[1;31m# The default is a set of ASCII characters that works well for English or text that has been run through Unidecode. For other data, you can modify _characters. See TRAINING_DATA.md for details. '''\u001b[0m\u001b[1;33m\u001b[0m\u001b[1;33m\u001b[0m\u001b[1;33m\u001b[0m\u001b[0m\n\u001b[1;32m----> 2\u001b[1;33m \u001b[1;32mfrom\u001b[0m \u001b[0msrc\u001b[0m\u001b[1;33m.\u001b[0m\u001b[0mtext\u001b[0m \u001b[1;32mimport\u001b[0m \u001b[0mcmudict\u001b[0m\u001b[1;33m\u001b[0m\u001b[1;33m\u001b[0m\u001b[0m\n\u001b[0m\u001b[0;32m      3\u001b[0m \u001b[1;33m\u001b[0m\u001b[0m\n\u001b[0;32m      4\u001b[0m \u001b[0m_pad\u001b[0m        \u001b[1;33m=\u001b[0m \u001b[1;34m'_'\u001b[0m\u001b[1;33m\u001b[0m\u001b[1;33m\u001b[0m\u001b[0m\n\u001b[0;32m      5\u001b[0m \u001b[0m_punctuation\u001b[0m \u001b[1;33m=\u001b[0m \u001b[1;34m'!\\'(),.:;? '\u001b[0m\u001b[1;33m\u001b[0m\u001b[1;33m\u001b[0m\u001b[0m\n",
      "\u001b[1;32mD:\\Mestrado\\Emotion Audio Synthesis (TTS)\\repo_final\\pt_etts\\src\\text\\__init__.py\u001b[0m in \u001b[0;36m<module>\u001b[1;34m\u001b[0m\n\u001b[0;32m      1\u001b[0m \u001b[1;34m\"\"\" from https://github.com/keithito/tacotron \"\"\"\u001b[0m\u001b[1;33m\u001b[0m\u001b[1;33m\u001b[0m\u001b[0m\n\u001b[0;32m      2\u001b[0m \u001b[1;32mimport\u001b[0m \u001b[0mre\u001b[0m\u001b[1;33m\u001b[0m\u001b[1;33m\u001b[0m\u001b[0m\n\u001b[1;32m----> 3\u001b[1;33m \u001b[1;32mfrom\u001b[0m \u001b[0msrc\u001b[0m\u001b[1;33m.\u001b[0m\u001b[0mtext\u001b[0m \u001b[1;32mimport\u001b[0m \u001b[0mcleaners\u001b[0m\u001b[1;33m\u001b[0m\u001b[1;33m\u001b[0m\u001b[0m\n\u001b[0m\u001b[0;32m      4\u001b[0m \u001b[1;32mfrom\u001b[0m \u001b[0msrc\u001b[0m\u001b[1;33m.\u001b[0m\u001b[0mtext\u001b[0m\u001b[1;33m.\u001b[0m\u001b[0msymbols\u001b[0m \u001b[1;32mimport\u001b[0m \u001b[0msymbols\u001b[0m\u001b[1;33m\u001b[0m\u001b[1;33m\u001b[0m\u001b[0m\n\u001b[0;32m      5\u001b[0m \u001b[1;33m\u001b[0m\u001b[0m\n",
      "\u001b[1;32mD:\\Mestrado\\Emotion Audio Synthesis (TTS)\\repo_final\\pt_etts\\src\\text\\cleaners.py\u001b[0m in \u001b[0;36m<module>\u001b[1;34m\u001b[0m\n\u001b[0;32m     14\u001b[0m \u001b[1;33m\u001b[0m\u001b[0m\n\u001b[0;32m     15\u001b[0m \u001b[1;32mimport\u001b[0m \u001b[0mre\u001b[0m\u001b[1;33m\u001b[0m\u001b[1;33m\u001b[0m\u001b[0m\n\u001b[1;32m---> 16\u001b[1;33m \u001b[1;32mfrom\u001b[0m \u001b[0munidecode\u001b[0m \u001b[1;32mimport\u001b[0m \u001b[0munidecode\u001b[0m\u001b[1;33m\u001b[0m\u001b[1;33m\u001b[0m\u001b[0m\n\u001b[0m\u001b[0;32m     17\u001b[0m \u001b[1;32mfrom\u001b[0m \u001b[1;33m.\u001b[0m\u001b[0mnumbers\u001b[0m \u001b[1;32mimport\u001b[0m \u001b[0mnormalize_numbers\u001b[0m\u001b[1;33m\u001b[0m\u001b[1;33m\u001b[0m\u001b[0m\n\u001b[0;32m     18\u001b[0m \u001b[1;33m\u001b[0m\u001b[0m\n",
      "\u001b[1;31mModuleNotFoundError\u001b[0m: No module named 'unidecode'"
     ]
    }
   ],
   "source": [
    "# The default is a set of ASCII characters that works well for English or text that has been run through Unidecode. For other data, you can modify _characters. See TRAINING_DATA.md for details. '''\n",
    "from src.text import cmudict\n",
    "\n",
    "_pad        = '_'\n",
    "_punctuation = '!\\'(),.:;? '\n",
    "_special = '-'\n",
    "_letters = 'ABCDEFGHIJKLMNOPQRSTUVWXYZabcdefghijklmnopqrstuvwxyz'\n",
    "\n",
    "# Prepend \"@\" to ARPAbet symbols to ensure uniqueness (some are the same as uppercase letters):\n",
    "_arpabet = ['@' + s for s in cmudict.valid_symbols]\n",
    "\n",
    "# Export all symbols:\n",
    "symbols = [_pad] + list(_special) + list(_punctuation) + list(_letters) + _arpabet\n"
   ]
  },
  {
   "cell_type": "code",
   "execution_count": 30,
   "metadata": {},
   "outputs": [
    {
     "name": "stdout",
     "output_type": "stream",
     "text": [
      "^C\n"
     ]
    }
   ],
   "source": [
    "! python train.py --output_directory \"./outputs\" --conf \"./conf/debugger.yaml\" --model \"Tacotron2_EncSpeakEmb\" --log_directory \"./log_dir\""
   ]
  },
  {
   "cell_type": "code",
   "execution_count": 8,
   "metadata": {},
   "outputs": [
    {
     "data": {
      "text/plain": [
       "'5.3.1'"
      ]
     },
     "execution_count": 8,
     "metadata": {},
     "output_type": "execute_result"
    }
   ],
   "source": [
    "import yaml\n",
    "yaml.__version__"
   ]
  },
  {
   "cell_type": "code",
   "execution_count": 9,
   "metadata": {},
   "outputs": [],
   "source": [
    "with open('./conf/debugger.yaml') as f:\n",
    "    config = yaml.load(f, Loader=yaml.Loader)"
   ]
  },
  {
   "cell_type": "code",
   "execution_count": 11,
   "metadata": {},
   "outputs": [
    {
     "data": {
      "text/plain": [
       "True"
      ]
     },
     "execution_count": 11,
     "metadata": {},
     "output_type": "execute_result"
    }
   ],
   "source": [
    "config['cudnn_enabled']"
   ]
  },
  {
   "cell_type": "code",
   "execution_count": 28,
   "metadata": {},
   "outputs": [],
   "source": [
    "from src.audio.vctk_speakers import speaker_dict"
   ]
  },
  {
   "cell_type": "code",
   "execution_count": 29,
   "metadata": {},
   "outputs": [
    {
     "ename": "KeyError",
     "evalue": "'334'",
     "output_type": "error",
     "traceback": [
      "\u001b[1;31m---------------------------------------------------------------------------\u001b[0m",
      "\u001b[1;31mKeyError\u001b[0m                                  Traceback (most recent call last)",
      "\u001b[1;32m<ipython-input-29-e6318dde8f62>\u001b[0m in \u001b[0;36m<module>\u001b[1;34m\u001b[0m\n\u001b[1;32m----> 1\u001b[1;33m \u001b[0mspeaker_dict\u001b[0m\u001b[1;33m[\u001b[0m\u001b[1;34m'334'\u001b[0m\u001b[1;33m]\u001b[0m\u001b[1;33m\u001b[0m\u001b[1;33m\u001b[0m\u001b[0m\n\u001b[0m",
      "\u001b[1;31mKeyError\u001b[0m: '334'"
     ]
    }
   ],
   "source": [
    "speaker_dict['334']"
   ]
  },
  {
   "cell_type": "code",
   "execution_count": null,
   "metadata": {},
   "outputs": [],
   "source": []
  }
 ],
 "metadata": {
  "kernelspec": {
   "display_name": "m_audio",
   "language": "python",
   "name": "m_audio"
  },
  "language_info": {
   "codemirror_mode": {
    "name": "ipython",
    "version": 3
   },
   "file_extension": ".py",
   "mimetype": "text/x-python",
   "name": "python",
   "nbconvert_exporter": "python",
   "pygments_lexer": "ipython3",
   "version": "3.6.9"
  }
 },
 "nbformat": 4,
 "nbformat_minor": 4
}
