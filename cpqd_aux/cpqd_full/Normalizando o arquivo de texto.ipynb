{
 "cells": [
  {
   "cell_type": "code",
   "execution_count": 24,
   "metadata": {},
   "outputs": [],
   "source": [
    "locutores = []\n",
    "wavs_dirs = []\n",
    "texts = []\n",
    "styles = []\n",
    "\n",
    "with open(\"cpqd_ptbr_24h_train.txt\", 'r') as f:\n",
    "    f = f.readlines()\n",
    "    for line in f:\n",
    "        splitted = line.replace('\t', '|').split('|')\n",
    "        \n",
    "        locutores.append(splitted[0])\n",
    "        wavs_dirs.append('/l/disk1/awstebas/data/TTS/vozes_sync/' + splitted[2])\n",
    "        texts.append(splitted[3][:-1])\n",
    "        styles.append('neutro')\n",
    "#         print(line.replace('\t', '|').split('|'))\n",
    "#         break"
   ]
  },
  {
   "cell_type": "code",
   "execution_count": 25,
   "metadata": {},
   "outputs": [
    {
     "name": "stdout",
     "output_type": "stream",
     "text": [
      "25463 25463 25463\n"
     ]
    }
   ],
   "source": [
    "print(len(locutores), len(wavs_dirs), len(texts))"
   ]
  },
  {
   "cell_type": "code",
   "execution_count": 26,
   "metadata": {},
   "outputs": [
    {
     "name": "stdout",
     "output_type": "stream",
     "text": [
      "['adriana', 'adriana', 'adriana', 'adriana', 'adriana', 'adriana', 'adriana', 'adriana', 'adriana', 'adriana']\n",
      "['/l/disk1/awstebas/data/TTS/vozes_sync/Adriana/3.1/veiculos/wav16/veiculos0023.wav', '/l/disk1/awstebas/data/TTS/vozes_sync/Adriana/3.1/veiculos/wav16/veiculos0022.wav', '/l/disk1/awstebas/data/TTS/vozes_sync/Adriana/3.1/bia04/wav16/bia040031.wav', '/l/disk1/awstebas/data/TTS/vozes_sync/Adriana/3.1/freqpalavras/wav16/freqpalavras0003.wav', '/l/disk1/awstebas/data/TTS/vozes_sync/Adriana/3.1/horas/wav16/horas0051.wav', '/l/disk1/awstebas/data/TTS/vozes_sync/Adriana/3.1/freqpalavras/wav16/freqpalavras0053.wav', '/l/disk1/awstebas/data/TTS/vozes_sync/Adriana/3.1/freqpalavras/wav16/freqpalavras0112.wav', '/l/disk1/awstebas/data/TTS/vozes_sync/Adriana/3.1/freqpalavras/wav16/freqpalavras0284.wav', '/l/disk1/awstebas/data/TTS/vozes_sync/Adriana/3.1/freqpalavras/wav16/freqpalavras0009.wav', '/l/disk1/awstebas/data/TTS/vozes_sync/Adriana/3.1/bia04/wav16/bia040039.wav']\n",
      "['Mitsubishi, Mitsubishi.', 'Suzuki, Suzuki.', 'Três mil setecentos e trinta e quatro, cinquenta e oito mil cento e noventa e nove, cento e trinta e cinco mil oitocentos e setenta e seis.', 'O governo está de acordo com a prefeitura de São Paulo, mas não com o presidente.', '42 minutos e 25 segundos.', 'Começa, no início do mês, a Copa do Mundo de 2014 dos Estados Unidos.', 'Quando o país recebeu do Ministério Público, nos últimos anos, os brasileiros questionaram muito.', 'A operação da casa civil, neste momento, quer passar principalmente para a rede de produção de cargo para políticos.', 'A possibilidade de referência no mercado financeiro, no entanto, deve ser da zona do euro.', '449 reais, e 67 centavos.']\n"
     ]
    }
   ],
   "source": [
    "print(locutores[:10])\n",
    "print(wavs_dirs[:10])\n",
    "print(texts[:10])"
   ]
  },
  {
   "cell_type": "code",
   "execution_count": 27,
   "metadata": {},
   "outputs": [],
   "source": [
    "import pandas as pd\n"
   ]
  },
  {
   "cell_type": "code",
   "execution_count": 28,
   "metadata": {},
   "outputs": [
    {
     "data": {
      "text/html": [
       "<div>\n",
       "<style scoped>\n",
       "    .dataframe tbody tr th:only-of-type {\n",
       "        vertical-align: middle;\n",
       "    }\n",
       "\n",
       "    .dataframe tbody tr th {\n",
       "        vertical-align: top;\n",
       "    }\n",
       "\n",
       "    .dataframe thead th {\n",
       "        text-align: right;\n",
       "    }\n",
       "</style>\n",
       "<table border=\"1\" class=\"dataframe\">\n",
       "  <thead>\n",
       "    <tr style=\"text-align: right;\">\n",
       "      <th></th>\n",
       "      <th>wav_path</th>\n",
       "      <th>text</th>\n",
       "      <th>emb_id</th>\n",
       "      <th>style_target</th>\n",
       "    </tr>\n",
       "  </thead>\n",
       "  <tbody>\n",
       "    <tr>\n",
       "      <th>0</th>\n",
       "      <td>/l/disk1/awstebas/data/TTS/vozes_sync/Adriana/...</td>\n",
       "      <td>Mitsubishi, Mitsubishi.</td>\n",
       "      <td>adriana</td>\n",
       "      <td>neutro</td>\n",
       "    </tr>\n",
       "    <tr>\n",
       "      <th>1</th>\n",
       "      <td>/l/disk1/awstebas/data/TTS/vozes_sync/Adriana/...</td>\n",
       "      <td>Suzuki, Suzuki.</td>\n",
       "      <td>adriana</td>\n",
       "      <td>neutro</td>\n",
       "    </tr>\n",
       "    <tr>\n",
       "      <th>2</th>\n",
       "      <td>/l/disk1/awstebas/data/TTS/vozes_sync/Adriana/...</td>\n",
       "      <td>Três mil setecentos e trinta e quatro, cinquen...</td>\n",
       "      <td>adriana</td>\n",
       "      <td>neutro</td>\n",
       "    </tr>\n",
       "    <tr>\n",
       "      <th>3</th>\n",
       "      <td>/l/disk1/awstebas/data/TTS/vozes_sync/Adriana/...</td>\n",
       "      <td>O governo está de acordo com a prefeitura de S...</td>\n",
       "      <td>adriana</td>\n",
       "      <td>neutro</td>\n",
       "    </tr>\n",
       "    <tr>\n",
       "      <th>4</th>\n",
       "      <td>/l/disk1/awstebas/data/TTS/vozes_sync/Adriana/...</td>\n",
       "      <td>42 minutos e 25 segundos.</td>\n",
       "      <td>adriana</td>\n",
       "      <td>neutro</td>\n",
       "    </tr>\n",
       "  </tbody>\n",
       "</table>\n",
       "</div>"
      ],
      "text/plain": [
       "                                            wav_path  \\\n",
       "0  /l/disk1/awstebas/data/TTS/vozes_sync/Adriana/...   \n",
       "1  /l/disk1/awstebas/data/TTS/vozes_sync/Adriana/...   \n",
       "2  /l/disk1/awstebas/data/TTS/vozes_sync/Adriana/...   \n",
       "3  /l/disk1/awstebas/data/TTS/vozes_sync/Adriana/...   \n",
       "4  /l/disk1/awstebas/data/TTS/vozes_sync/Adriana/...   \n",
       "\n",
       "                                                text   emb_id style_target  \n",
       "0                            Mitsubishi, Mitsubishi.  adriana       neutro  \n",
       "1                                    Suzuki, Suzuki.  adriana       neutro  \n",
       "2  Três mil setecentos e trinta e quatro, cinquen...  adriana       neutro  \n",
       "3  O governo está de acordo com a prefeitura de S...  adriana       neutro  \n",
       "4                          42 minutos e 25 segundos.  adriana       neutro  "
      ]
     },
     "execution_count": 28,
     "metadata": {},
     "output_type": "execute_result"
    }
   ],
   "source": [
    "df = pd.DataFrame({'wav_path': wavs_dirs, 'text': texts, 'emb_id': locutores, 'style_target': styles})\n",
    "df.head()"
   ]
  },
  {
   "cell_type": "code",
   "execution_count": 29,
   "metadata": {},
   "outputs": [],
   "source": [
    "from sklearn.model_selection import train_test_split"
   ]
  },
  {
   "cell_type": "code",
   "execution_count": 30,
   "metadata": {},
   "outputs": [],
   "source": [
    "df['text'] = df['text'].str.lower().str.replace('.', ' .').str.replace(',', ' ,').str.replace('!', ' !').str.replace('?', ' ?').str.replace('\\n', '').str.replace('\\t', '').str.replace('''\"''', '')\n",
    "\n",
    "df_train, df_val, speaker_id, speaker_id = train_test_split(df, df['emb_id'], test_size = 0.1, random_state = 42, stratify = df['emb_id'])\n"
   ]
  },
  {
   "cell_type": "code",
   "execution_count": null,
   "metadata": {},
   "outputs": [],
   "source": [
    "df_train.to_csv(out_train, index = False, sep = '|', encoding='latin-1')\n",
    "df_val.to_csv(out_val, index = False, sep='|', encoding = 'latin-1')"
   ]
  }
 ],
 "metadata": {
  "kernelspec": {
   "display_name": "m_audio",
   "language": "python",
   "name": "m_audio"
  },
  "language_info": {
   "codemirror_mode": {
    "name": "ipython",
    "version": 3
   },
   "file_extension": ".py",
   "mimetype": "text/x-python",
   "name": "python",
   "nbconvert_exporter": "python",
   "pygments_lexer": "ipython3",
   "version": "3.6.9"
  }
 },
 "nbformat": 4,
 "nbformat_minor": 4
}
